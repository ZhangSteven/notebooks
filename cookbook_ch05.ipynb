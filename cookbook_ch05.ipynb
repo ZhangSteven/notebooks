{
 "cells": [
  {
   "cell_type": "markdown",
   "metadata": {},
   "source": [
    "# Pandas Cook Book Chapter 05 and 06\n",
    "\n",
    "See the [Cookbook](http://github.com/jvns/pandas-cookbook) here, let's start learning chapter 5."
   ]
  },
  {
   "cell_type": "code",
   "execution_count": 1,
   "metadata": {},
   "outputs": [],
   "source": [
    "# render plot inline\n",
    "%matplotlib inline\n",
    "\n",
    "import pandas as pd\n",
    "import matplotlib.pyplot as plt\n",
    "import numpy as np"
   ]
  },
  {
   "cell_type": "markdown",
   "metadata": {},
   "source": [
    "Here we are going to use Canada's weather data for 2012."
   ]
  },
  {
   "cell_type": "code",
   "execution_count": 35,
   "metadata": {},
   "outputs": [
    {
     "data": {
      "text/html": [
       "<div>\n",
       "<style scoped>\n",
       "    .dataframe tbody tr th:only-of-type {\n",
       "        vertical-align: middle;\n",
       "    }\n",
       "\n",
       "    .dataframe tbody tr th {\n",
       "        vertical-align: top;\n",
       "    }\n",
       "\n",
       "    .dataframe thead th {\n",
       "        text-align: right;\n",
       "    }\n",
       "</style>\n",
       "<table border=\"1\" class=\"dataframe\">\n",
       "  <thead>\n",
       "    <tr style=\"text-align: right;\">\n",
       "      <th></th>\n",
       "      <th>Temp (C)</th>\n",
       "      <th>Dew Point Temp (C)</th>\n",
       "      <th>Rel Hum (%)</th>\n",
       "      <th>Wind Spd (km/h)</th>\n",
       "      <th>Visibility (km)</th>\n",
       "      <th>Stn Press (kPa)</th>\n",
       "      <th>Weather</th>\n",
       "    </tr>\n",
       "    <tr>\n",
       "      <th>Date/Time</th>\n",
       "      <th></th>\n",
       "      <th></th>\n",
       "      <th></th>\n",
       "      <th></th>\n",
       "      <th></th>\n",
       "      <th></th>\n",
       "      <th></th>\n",
       "    </tr>\n",
       "  </thead>\n",
       "  <tbody>\n",
       "    <tr>\n",
       "      <th>2012-01-04 08:00:00</th>\n",
       "      <td>-17.8</td>\n",
       "      <td>-24.2</td>\n",
       "      <td>57</td>\n",
       "      <td>17</td>\n",
       "      <td>24.1</td>\n",
       "      <td>101.73</td>\n",
       "      <td>Mostly Cloudy</td>\n",
       "    </tr>\n",
       "    <tr>\n",
       "      <th>2012-01-04 09:00:00</th>\n",
       "      <td>-16.8</td>\n",
       "      <td>-22.5</td>\n",
       "      <td>61</td>\n",
       "      <td>9</td>\n",
       "      <td>24.1</td>\n",
       "      <td>101.68</td>\n",
       "      <td>Mostly Cloudy</td>\n",
       "    </tr>\n",
       "    <tr>\n",
       "      <th>2012-01-04 10:00:00</th>\n",
       "      <td>-15.2</td>\n",
       "      <td>-20.6</td>\n",
       "      <td>63</td>\n",
       "      <td>7</td>\n",
       "      <td>24.1</td>\n",
       "      <td>101.54</td>\n",
       "      <td>Mostly Cloudy</td>\n",
       "    </tr>\n",
       "    <tr>\n",
       "      <th>2012-01-04 11:00:00</th>\n",
       "      <td>-14.2</td>\n",
       "      <td>-21.1</td>\n",
       "      <td>56</td>\n",
       "      <td>13</td>\n",
       "      <td>24.1</td>\n",
       "      <td>101.41</td>\n",
       "      <td>Mostly Cloudy</td>\n",
       "    </tr>\n",
       "    <tr>\n",
       "      <th>2012-01-04 12:00:00</th>\n",
       "      <td>-13.7</td>\n",
       "      <td>-21.7</td>\n",
       "      <td>51</td>\n",
       "      <td>11</td>\n",
       "      <td>24.1</td>\n",
       "      <td>101.25</td>\n",
       "      <td>Snow</td>\n",
       "    </tr>\n",
       "    <tr>\n",
       "      <th>2012-01-04 13:00:00</th>\n",
       "      <td>-12.4</td>\n",
       "      <td>-20.1</td>\n",
       "      <td>53</td>\n",
       "      <td>11</td>\n",
       "      <td>24.1</td>\n",
       "      <td>101.07</td>\n",
       "      <td>Cloudy</td>\n",
       "    </tr>\n",
       "    <tr>\n",
       "      <th>2012-01-04 14:00:00</th>\n",
       "      <td>-11.3</td>\n",
       "      <td>-19.0</td>\n",
       "      <td>53</td>\n",
       "      <td>7</td>\n",
       "      <td>19.3</td>\n",
       "      <td>100.97</td>\n",
       "      <td>Snow</td>\n",
       "    </tr>\n",
       "    <tr>\n",
       "      <th>2012-01-04 15:00:00</th>\n",
       "      <td>-10.2</td>\n",
       "      <td>-16.3</td>\n",
       "      <td>61</td>\n",
       "      <td>11</td>\n",
       "      <td>9.7</td>\n",
       "      <td>100.89</td>\n",
       "      <td>Snow</td>\n",
       "    </tr>\n",
       "    <tr>\n",
       "      <th>2012-01-04 16:00:00</th>\n",
       "      <td>-9.4</td>\n",
       "      <td>-15.5</td>\n",
       "      <td>61</td>\n",
       "      <td>13</td>\n",
       "      <td>19.3</td>\n",
       "      <td>100.79</td>\n",
       "      <td>Snow</td>\n",
       "    </tr>\n",
       "    <tr>\n",
       "      <th>2012-01-04 17:00:00</th>\n",
       "      <td>-8.9</td>\n",
       "      <td>-13.2</td>\n",
       "      <td>71</td>\n",
       "      <td>9</td>\n",
       "      <td>4.8</td>\n",
       "      <td>100.76</td>\n",
       "      <td>Snow</td>\n",
       "    </tr>\n",
       "  </tbody>\n",
       "</table>\n",
       "</div>"
      ],
      "text/plain": [
       "                     Temp (C)  Dew Point Temp (C)  Rel Hum (%)  \\\n",
       "Date/Time                                                        \n",
       "2012-01-04 08:00:00     -17.8               -24.2           57   \n",
       "2012-01-04 09:00:00     -16.8               -22.5           61   \n",
       "2012-01-04 10:00:00     -15.2               -20.6           63   \n",
       "2012-01-04 11:00:00     -14.2               -21.1           56   \n",
       "2012-01-04 12:00:00     -13.7               -21.7           51   \n",
       "2012-01-04 13:00:00     -12.4               -20.1           53   \n",
       "2012-01-04 14:00:00     -11.3               -19.0           53   \n",
       "2012-01-04 15:00:00     -10.2               -16.3           61   \n",
       "2012-01-04 16:00:00      -9.4               -15.5           61   \n",
       "2012-01-04 17:00:00      -8.9               -13.2           71   \n",
       "\n",
       "                     Wind Spd (km/h)  Visibility (km)  Stn Press (kPa)  \\\n",
       "Date/Time                                                                \n",
       "2012-01-04 08:00:00               17             24.1           101.73   \n",
       "2012-01-04 09:00:00                9             24.1           101.68   \n",
       "2012-01-04 10:00:00                7             24.1           101.54   \n",
       "2012-01-04 11:00:00               13             24.1           101.41   \n",
       "2012-01-04 12:00:00               11             24.1           101.25   \n",
       "2012-01-04 13:00:00               11             24.1           101.07   \n",
       "2012-01-04 14:00:00                7             19.3           100.97   \n",
       "2012-01-04 15:00:00               11              9.7           100.89   \n",
       "2012-01-04 16:00:00               13             19.3           100.79   \n",
       "2012-01-04 17:00:00                9              4.8           100.76   \n",
       "\n",
       "                           Weather  \n",
       "Date/Time                           \n",
       "2012-01-04 08:00:00  Mostly Cloudy  \n",
       "2012-01-04 09:00:00  Mostly Cloudy  \n",
       "2012-01-04 10:00:00  Mostly Cloudy  \n",
       "2012-01-04 11:00:00  Mostly Cloudy  \n",
       "2012-01-04 12:00:00           Snow  \n",
       "2012-01-04 13:00:00         Cloudy  \n",
       "2012-01-04 14:00:00           Snow  \n",
       "2012-01-04 15:00:00           Snow  \n",
       "2012-01-04 16:00:00           Snow  \n",
       "2012-01-04 17:00:00           Snow  "
      ]
     },
     "execution_count": 35,
     "metadata": {},
     "output_type": "execute_result"
    }
   ],
   "source": [
    "weather2012 = pd.read_csv('data/weather_2012.csv', parse_dates=['Date/Time'], index_col='Date/Time')\n",
    "weather2012[80:90]"
   ]
  },
  {
   "cell_type": "markdown",
   "metadata": {},
   "source": [
    "## String operations\n",
    "Say we want to find those rows indicate there is a snow. We can achieve this by using pandas string operations."
   ]
  },
  {
   "cell_type": "code",
   "execution_count": 20,
   "metadata": {},
   "outputs": [
    {
     "data": {
      "text/plain": [
       "Date/Time\n",
       "2012-01-04 08:00:00    False\n",
       "2012-01-04 09:00:00    False\n",
       "2012-01-04 10:00:00    False\n",
       "2012-01-04 11:00:00    False\n",
       "2012-01-04 12:00:00     True\n",
       "2012-01-04 13:00:00    False\n",
       "2012-01-04 14:00:00     True\n",
       "2012-01-04 15:00:00     True\n",
       "2012-01-04 16:00:00     True\n",
       "2012-01-04 17:00:00     True\n",
       "Name: Weather, dtype: bool"
      ]
     },
     "execution_count": 20,
     "metadata": {},
     "output_type": "execute_result"
    }
   ],
   "source": [
    "weatherDescriptions = weather2012['Weather']\n",
    "isSnowing = weatherDescriptions.str.contains('Snow')\n",
    "isSnowing[80:90] # consistent with the weather above"
   ]
  },
  {
   "cell_type": "markdown",
   "metadata": {},
   "source": [
    "It's more useful to plot it. Note that we cannot plot boolean values directly, so we map them to 0/1 first."
   ]
  },
  {
   "cell_type": "code",
   "execution_count": 27,
   "metadata": {},
   "outputs": [
    {
     "data": {
      "text/plain": [
       "<matplotlib.axes._subplots.AxesSubplot at 0xe950e50>"
      ]
     },
     "execution_count": 27,
     "metadata": {},
     "output_type": "execute_result"
    },
    {
     "data": {
      "image/png": "[encoded data removed]",
      "text/plain": [
       "<Figure size 1080x360 with 1 Axes>"
      ]
     },
     "metadata": {
      "needs_background": "light"
     },
     "output_type": "display_data"
    }
   ],
   "source": [
    "isSnowing.apply(lambda x: 1 if x else 0).plot(figsize=(15,5))"
   ]
  },
  {
   "cell_type": "markdown",
   "metadata": {},
   "source": [
    "## Get monthly median temperature\n",
    "We can use pandas resample() function to achive this. It involves three steps:\n",
    "\n",
    "1. Take out temperature data; \n",
    "2. Resample on monthly basis;\n",
    "3. Apply median function to each group;"
   ]
  },
  {
   "cell_type": "code",
   "execution_count": 39,
   "metadata": {},
   "outputs": [
    {
     "data": {
      "text/plain": [
       "Date/Time\n",
       "2012-01-31    -7.05\n",
       "2012-02-29    -4.10\n",
       "2012-03-31     2.60\n",
       "2012-04-30     6.30\n",
       "2012-05-31    16.05\n",
       "2012-06-30    19.60\n",
       "2012-07-31    22.90\n",
       "2012-08-31    22.20\n",
       "2012-09-30    16.10\n",
       "2012-10-31    11.30\n",
       "2012-11-30     1.05\n",
       "2012-12-31    -2.85\n",
       "Freq: M, Name: Temp (C), dtype: float64"
      ]
     },
     "execution_count": 39,
     "metadata": {},
     "output_type": "execute_result"
    }
   ],
   "source": [
    "monthlyMedian = weather2012['Temp (C)'].resample('M').apply(np.median)\n",
    "monthlyMedian"
   ]
  },
  {
   "cell_type": "code",
   "execution_count": 42,
   "metadata": {},
   "outputs": [
    {
     "data": {
      "text/plain": [
       "<matplotlib.axes._subplots.AxesSubplot at 0xed800f0>"
      ]
     },
     "execution_count": 42,
     "metadata": {},
     "output_type": "execute_result"
    },
    {
     "data": {
      "image/png": "[encoded data removed]",
      "text/plain": [
       "<Figure size 1080x432 with 1 Axes>"
      ]
     },
     "metadata": {
      "needs_background": "light"
     },
     "output_type": "display_data"
    }
   ],
   "source": [
    "monthlyMedian.index = ['Jan', 'Feb', 'Mar', 'Apr', 'May', 'Jun', 'Jul', 'Aug', 'Sep', 'Oct', 'Nov', 'Dec']\n",
    "monthlyMedian.plot(kind='bar', figsize=(15,6))"
   ]
  }
 ],
 "metadata": {
  "kernelspec": {
   "display_name": "Python 3",
   "language": "python",
   "name": "python3"
  },
  "language_info": {
   "codemirror_mode": {
    "name": "ipython",
    "version": 3
   },
   "file_extension": ".py",
   "mimetype": "text/x-python",
   "name": "python",
   "nbconvert_exporter": "python",
   "pygments_lexer": "ipython3",
   "version": "3.6.3"
  }
 },
 "nbformat": 4,
 "nbformat_minor": 4
}
