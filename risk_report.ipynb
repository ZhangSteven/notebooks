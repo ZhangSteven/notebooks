{
 "cells": [
  {
   "cell_type": "markdown",
   "metadata": {},
   "source": [
    "# Risk Report Asset Allocation"
   ]
  },
  {
   "cell_type": "code",
   "execution_count": 1,
   "metadata": {},
   "outputs": [],
   "source": [
    "import pandas as pd\n",
    "from numpy import NaN"
   ]
  },
  {
   "cell_type": "code",
   "execution_count": 2,
   "metadata": {},
   "outputs": [],
   "source": [
    "# Specify the date and portfolio here\n",
    "date = '20200529'\n",
    "portfolio = '19437'\n",
    "mode='production'\n",
    "reportingCurrency = 'USD'"
   ]
  },
  {
   "cell_type": "markdown",
   "metadata": {},
   "source": [
    "## Load Portfolio\n",
    "\n",
    "1. Load portfolio;\n",
    "2. Add security id."
   ]
  },
  {
   "cell_type": "code",
   "execution_count": 3,
   "metadata": {},
   "outputs": [
    {
     "data": {
      "text/html": [
       "<div>\n",
       "<style scoped>\n",
       "    .dataframe tbody tr th:only-of-type {\n",
       "        vertical-align: middle;\n",
       "    }\n",
       "\n",
       "    .dataframe tbody tr th {\n",
       "        vertical-align: top;\n",
       "    }\n",
       "\n",
       "    .dataframe thead th {\n",
       "        text-align: right;\n",
       "    }\n",
       "</style>\n",
       "<table border=\"1\" class=\"dataframe\">\n",
       "  <thead>\n",
       "    <tr style=\"text-align: right;\">\n",
       "      <th></th>\n",
       "      <th>SecurityId</th>\n",
       "      <th>SecurityIdType</th>\n",
       "      <th>PeriodEndDate</th>\n",
       "      <th>LongShortDescription</th>\n",
       "      <th>SortKey</th>\n",
       "      <th>Quantity</th>\n",
       "    </tr>\n",
       "  </thead>\n",
       "  <tbody>\n",
       "    <tr>\n",
       "      <th>0</th>\n",
       "      <td>CNY</td>\n",
       "      <td>Cash and Equivalents</td>\n",
       "      <td>2020-05-29</td>\n",
       "      <td>Cash Long</td>\n",
       "      <td>Cash and Equivalents</td>\n",
       "      <td>100.00</td>\n",
       "    </tr>\n",
       "    <tr>\n",
       "      <th>1</th>\n",
       "      <td>EUR</td>\n",
       "      <td>Cash and Equivalents</td>\n",
       "      <td>2020-05-29</td>\n",
       "      <td>Cash Long</td>\n",
       "      <td>Cash and Equivalents</td>\n",
       "      <td>200713.05</td>\n",
       "    </tr>\n",
       "    <tr>\n",
       "      <th>2</th>\n",
       "      <td>HKD</td>\n",
       "      <td>Cash and Equivalents</td>\n",
       "      <td>2020-05-29</td>\n",
       "      <td>Cash Long</td>\n",
       "      <td>Cash and Equivalents</td>\n",
       "      <td>12670525.93</td>\n",
       "    </tr>\n",
       "    <tr>\n",
       "      <th>3</th>\n",
       "      <td>USD</td>\n",
       "      <td>Cash and Equivalents</td>\n",
       "      <td>2020-05-29</td>\n",
       "      <td>Cash Long</td>\n",
       "      <td>Cash and Equivalents</td>\n",
       "      <td>42817706.21</td>\n",
       "    </tr>\n",
       "    <tr>\n",
       "      <th>4</th>\n",
       "      <td>1299 HK Equity</td>\n",
       "      <td>TICKER</td>\n",
       "      <td>2020-05-29</td>\n",
       "      <td>Investments Long</td>\n",
       "      <td>Common Stock</td>\n",
       "      <td>177200.00</td>\n",
       "    </tr>\n",
       "  </tbody>\n",
       "</table>\n",
       "</div>"
      ],
      "text/plain": [
       "       SecurityId        SecurityIdType PeriodEndDate LongShortDescription  \\\n",
       "0             CNY  Cash and Equivalents    2020-05-29            Cash Long   \n",
       "1             EUR  Cash and Equivalents    2020-05-29            Cash Long   \n",
       "2             HKD  Cash and Equivalents    2020-05-29            Cash Long   \n",
       "3             USD  Cash and Equivalents    2020-05-29            Cash Long   \n",
       "4  1299 HK Equity                TICKER    2020-05-29     Investments Long   \n",
       "\n",
       "                SortKey     Quantity  \n",
       "0  Cash and Equivalents       100.00  \n",
       "1  Cash and Equivalents    200713.05  \n",
       "2  Cash and Equivalents  12670525.93  \n",
       "3  Cash and Equivalents  42817706.21  \n",
       "4          Common Stock    177200.00  "
      ]
     },
     "execution_count": 3,
     "metadata": {},
     "output_type": "execute_result"
    }
   ],
   "source": [
    "from risk_report.data import getIdnType, getPortfolioPositions\n",
    "from utils.dframe import dictListToDataFrame\n",
    "\n",
    "df = dictListToDataFrame(getPortfolioPositions(portfolio, date, mode))\n",
    "df['SecurityId'] =  df.apply(lambda p: getIdnType(p)[0], axis=1)\n",
    "df['SecurityIdType'] =  df.apply(lambda p: getIdnType(p)[1], axis=1)\n",
    "df[['SecurityId', 'SecurityIdType', 'PeriodEndDate', 'LongShortDescription', 'SortKey', 'Quantity']].head()"
   ]
  },
  {
   "cell_type": "markdown",
   "metadata": {},
   "source": [
    "## Prepare Blp Data\n",
    "\n",
    "1. Write csv of security Ids that needs to load Bloomberg data;\n",
    "2. Load Bloomberg data into dataframe;\n",
    "3. Combine with portfolio."
   ]
  },
  {
   "cell_type": "markdown",
   "metadata": {},
   "source": [
    "### Write Security Id and Type to Csv File\n",
    "\n",
    "1. Take those need Bloomberg data;\n",
    "2. Write the unique security id and type to csv file."
   ]
  },
  {
   "cell_type": "code",
   "execution_count": 4,
   "metadata": {},
   "outputs": [],
   "source": [
    "from risk_report.main_asset_allocation import needBlpData\n",
    "\n",
    "# write a csv file with two columns: SecurityId (the index) and SecurityIdType (the value)\n",
    "df[df.apply(needBlpData, axis=1)].groupby('SecurityId').first()['SecurityIdType'].to_csv('idnType_' + date + '.csv')"
   ]
  },
  {
   "cell_type": "markdown",
   "metadata": {},
   "source": [
    "### Load Blp Data"
   ]
  },
  {
   "cell_type": "code",
   "execution_count": 9,
   "metadata": {},
   "outputs": [
    {
     "data": {
      "text/html": [
       "<div>\n",
       "<style scoped>\n",
       "    .dataframe tbody tr th:only-of-type {\n",
       "        vertical-align: middle;\n",
       "    }\n",
       "\n",
       "    .dataframe tbody tr th {\n",
       "        vertical-align: top;\n",
       "    }\n",
       "\n",
       "    .dataframe thead th {\n",
       "        text-align: right;\n",
       "    }\n",
       "</style>\n",
       "<table border=\"1\" class=\"dataframe\">\n",
       "  <thead>\n",
       "    <tr style=\"text-align: right;\">\n",
       "      <th></th>\n",
       "      <th>index</th>\n",
       "      <th>ID</th>\n",
       "      <th>ID_TYPE</th>\n",
       "      <th>MARKET_SECTOR_DES</th>\n",
       "      <th>CNTRY_ISSUE_ISO</th>\n",
       "      <th>CNTRY_OF_RISK</th>\n",
       "      <th>EXCH_MARKET_STATUS</th>\n",
       "      <th>INDUSTRY_SECTOR</th>\n",
       "      <th>CAPITAL_CONTINGENT_SECURITY</th>\n",
       "      <th>SFC_AUTHORIZED_FUND</th>\n",
       "      <th>RTG_SP</th>\n",
       "      <th>RTG_MOODY</th>\n",
       "      <th>RTG_FITCH</th>\n",
       "    </tr>\n",
       "  </thead>\n",
       "  <tbody>\n",
       "    <tr>\n",
       "      <th>0</th>\n",
       "      <td>0</td>\n",
       "      <td>US404280AG49</td>\n",
       "      <td>ISIN</td>\n",
       "      <td>Corp</td>\n",
       "      <td>GB</td>\n",
       "      <td>GB</td>\n",
       "      <td>ACTV</td>\n",
       "      <td>Financial</td>\n",
       "      <td>NaN</td>\n",
       "      <td>NaN</td>\n",
       "      <td>BBB</td>\n",
       "      <td>A3</td>\n",
       "      <td>A-</td>\n",
       "    </tr>\n",
       "    <tr>\n",
       "      <th>1</th>\n",
       "      <td>0</td>\n",
       "      <td>XS1992925013</td>\n",
       "      <td>ISIN</td>\n",
       "      <td>Corp</td>\n",
       "      <td>KY</td>\n",
       "      <td>CN</td>\n",
       "      <td>ACTV</td>\n",
       "      <td>Financial</td>\n",
       "      <td>NaN</td>\n",
       "      <td>NaN</td>\n",
       "      <td>A</td>\n",
       "      <td>NaN</td>\n",
       "      <td>A</td>\n",
       "    </tr>\n",
       "    <tr>\n",
       "      <th>2</th>\n",
       "      <td>0</td>\n",
       "      <td>DE000LB1P2W1</td>\n",
       "      <td>ISIN</td>\n",
       "      <td>Corp</td>\n",
       "      <td>DE</td>\n",
       "      <td>DE</td>\n",
       "      <td>ACTV</td>\n",
       "      <td>Financial</td>\n",
       "      <td>NaN</td>\n",
       "      <td>NaN</td>\n",
       "      <td>NaN</td>\n",
       "      <td>Baa2</td>\n",
       "      <td>BB+</td>\n",
       "    </tr>\n",
       "    <tr>\n",
       "      <th>3</th>\n",
       "      <td>0</td>\n",
       "      <td>6808 HK Equity</td>\n",
       "      <td>TICKER</td>\n",
       "      <td>Equity</td>\n",
       "      <td>HK</td>\n",
       "      <td>CN</td>\n",
       "      <td>ACTV</td>\n",
       "      <td>Consumer, Cyclical</td>\n",
       "      <td>N</td>\n",
       "      <td>NaN</td>\n",
       "      <td>NaN</td>\n",
       "      <td>NaN</td>\n",
       "      <td>NaN</td>\n",
       "    </tr>\n",
       "    <tr>\n",
       "      <th>4</th>\n",
       "      <td>0</td>\n",
       "      <td>XS2125922349</td>\n",
       "      <td>ISIN</td>\n",
       "      <td>Corp</td>\n",
       "      <td>CN</td>\n",
       "      <td>CN</td>\n",
       "      <td>ACTV</td>\n",
       "      <td>Financial</td>\n",
       "      <td>Y</td>\n",
       "      <td>NaN</td>\n",
       "      <td>BB+</td>\n",
       "      <td>Ba1</td>\n",
       "      <td>BB+</td>\n",
       "    </tr>\n",
       "  </tbody>\n",
       "</table>\n",
       "</div>"
      ],
      "text/plain": [
       "   index              ID ID_TYPE MARKET_SECTOR_DES CNTRY_ISSUE_ISO  \\\n",
       "0      0    US404280AG49    ISIN              Corp              GB   \n",
       "1      0    XS1992925013    ISIN              Corp              KY   \n",
       "2      0    DE000LB1P2W1    ISIN              Corp              DE   \n",
       "3      0  6808 HK Equity  TICKER            Equity              HK   \n",
       "4      0    XS2125922349    ISIN              Corp              CN   \n",
       "\n",
       "  CNTRY_OF_RISK EXCH_MARKET_STATUS     INDUSTRY_SECTOR  \\\n",
       "0            GB               ACTV           Financial   \n",
       "1            CN               ACTV           Financial   \n",
       "2            DE               ACTV           Financial   \n",
       "3            CN               ACTV  Consumer, Cyclical   \n",
       "4            CN               ACTV           Financial   \n",
       "\n",
       "  CAPITAL_CONTINGENT_SECURITY SFC_AUTHORIZED_FUND RTG_SP RTG_MOODY RTG_FITCH  \n",
       "0                         NaN                 NaN    BBB        A3        A-  \n",
       "1                         NaN                 NaN      A       NaN         A  \n",
       "2                         NaN                 NaN    NaN      Baa2       BB+  \n",
       "3                           N                 NaN    NaN       NaN       NaN  \n",
       "4                           Y                 NaN    BB+       Ba1       BB+  "
      ]
     },
     "execution_count": 9,
     "metadata": {},
     "output_type": "execute_result"
    }
   ],
   "source": [
    "from risk_report.data import getBlpData\n",
    "\n",
    "blpData = dictListToDataFrame(getBlpData(date, mode).values())\n",
    "blpData = blpData.replace(to_replace='^#N/A', value=NaN, regex=True)\n",
    "blpData.head()"
   ]
  },
  {
   "cell_type": "markdown",
   "metadata": {},
   "source": [
    "## Get Asset Type"
   ]
  },
  {
   "cell_type": "code",
   "execution_count": null,
   "metadata": {},
   "outputs": [],
   "source": [
    "from risk_report.asset import getAssetType\n",
    "\n"
   ]
  }
 ],
 "metadata": {
  "kernelspec": {
   "display_name": "Python 3",
   "language": "python",
   "name": "python3"
  },
  "language_info": {
   "codemirror_mode": {
    "name": "ipython",
    "version": 3
   },
   "file_extension": ".py",
   "mimetype": "text/x-python",
   "name": "python",
   "nbconvert_exporter": "python",
   "pygments_lexer": "ipython3",
   "version": "3.8.2"
  }
 },
 "nbformat": 4,
 "nbformat_minor": 4
}
