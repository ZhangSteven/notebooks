{
 "cells": [
  {
   "cell_type": "markdown",
   "metadata": {},
   "source": [
    "# Code Snippets\n",
    "\n",
    "Little code samples"
   ]
  },
  {
   "cell_type": "code",
   "execution_count": 5,
   "metadata": {},
   "outputs": [],
   "source": [
    "import pandas as pd\n",
    "from numpy import NaN"
   ]
  },
  {
   "cell_type": "markdown",
   "metadata": {},
   "source": [
    "### Add a Column to DataFrame\n",
    "\n",
    "Add a column of to a DataFrame object. We are going to use pd.concat() function to achieve the result. To make it work, we need to:\n",
    "\n",
    "1. Create a dataframe of a single column, with the column name specified by the user;\n",
    "2. Align the index of the new dataframe with the dataframe we are appending to;\n",
    "3. Call concat().\n",
    "\n",
    "#### Add a List of Fixed Values As a Column"
   ]
  },
  {
   "cell_type": "code",
   "execution_count": 16,
   "metadata": {},
   "outputs": [],
   "source": [
    "from itertools import repeat\n",
    "\n",
    "\"\"\"\n",
    "    Add a column of fixed value to a dataframe\n",
    "    \n",
    "    [String] column (column name), [Object] value (any value type that can be put into a dataframe), [DataFrame] df\n",
    "        => [DataFrame] df (new DataFrame with a column appended)\n",
    "\"\"\"\n",
    "addColumn = lambda column, value, df: \\\n",
    "    pd.concat( [ df\n",
    "               , pd.DataFrame(repeat([value], len(df)), columns=[column], index=df.index)\n",
    "               ]\n",
    "             , axis=1\n",
    "             )"
   ]
  },
  {
   "cell_type": "markdown",
   "metadata": {},
   "source": [
    "Try it out"
   ]
  },
  {
   "cell_type": "code",
   "execution_count": 17,
   "metadata": {},
   "outputs": [
    {
     "data": {
      "text/html": [
       "<div>\n",
       "<style scoped>\n",
       "    .dataframe tbody tr th:only-of-type {\n",
       "        vertical-align: middle;\n",
       "    }\n",
       "\n",
       "    .dataframe tbody tr th {\n",
       "        vertical-align: top;\n",
       "    }\n",
       "\n",
       "    .dataframe thead th {\n",
       "        text-align: right;\n",
       "    }\n",
       "</style>\n",
       "<table border=\"1\" class=\"dataframe\">\n",
       "  <thead>\n",
       "    <tr style=\"text-align: right;\">\n",
       "      <th></th>\n",
       "      <th>Score</th>\n",
       "      <th>Rank</th>\n",
       "    </tr>\n",
       "  </thead>\n",
       "  <tbody>\n",
       "    <tr>\n",
       "      <th>Isaac</th>\n",
       "      <td>88</td>\n",
       "      <td>3</td>\n",
       "    </tr>\n",
       "    <tr>\n",
       "      <th>Yan</th>\n",
       "      <td>90</td>\n",
       "      <td>1</td>\n",
       "    </tr>\n",
       "    <tr>\n",
       "      <th>Chuyi</th>\n",
       "      <td>75</td>\n",
       "      <td>10</td>\n",
       "    </tr>\n",
       "  </tbody>\n",
       "</table>\n",
       "</div>"
      ],
      "text/plain": [
       "       Score  Rank\n",
       "Isaac     88     3\n",
       "Yan       90     1\n",
       "Chuyi     75    10"
      ]
     },
     "execution_count": 17,
     "metadata": {},
     "output_type": "execute_result"
    }
   ],
   "source": [
    "df = pd.DataFrame( [[88, 3], [90, 1], [75, 10]]\n",
    "                 , columns=['Score', 'Rank']\n",
    "                 , index=['Isaac', 'Yan', 'Chuyi'])\n",
    "df"
   ]
  },
  {
   "cell_type": "code",
   "execution_count": 18,
   "metadata": {},
   "outputs": [
    {
     "data": {
      "text/html": [
       "<div>\n",
       "<style scoped>\n",
       "    .dataframe tbody tr th:only-of-type {\n",
       "        vertical-align: middle;\n",
       "    }\n",
       "\n",
       "    .dataframe tbody tr th {\n",
       "        vertical-align: top;\n",
       "    }\n",
       "\n",
       "    .dataframe thead th {\n",
       "        text-align: right;\n",
       "    }\n",
       "</style>\n",
       "<table border=\"1\" class=\"dataframe\">\n",
       "  <thead>\n",
       "    <tr style=\"text-align: right;\">\n",
       "      <th></th>\n",
       "      <th>Score</th>\n",
       "      <th>Rank</th>\n",
       "      <th>Date</th>\n",
       "    </tr>\n",
       "  </thead>\n",
       "  <tbody>\n",
       "    <tr>\n",
       "      <th>Isaac</th>\n",
       "      <td>88</td>\n",
       "      <td>3</td>\n",
       "      <td>2020-05-16</td>\n",
       "    </tr>\n",
       "    <tr>\n",
       "      <th>Yan</th>\n",
       "      <td>90</td>\n",
       "      <td>1</td>\n",
       "      <td>2020-05-16</td>\n",
       "    </tr>\n",
       "    <tr>\n",
       "      <th>Chuyi</th>\n",
       "      <td>75</td>\n",
       "      <td>10</td>\n",
       "      <td>2020-05-16</td>\n",
       "    </tr>\n",
       "  </tbody>\n",
       "</table>\n",
       "</div>"
      ],
      "text/plain": [
       "       Score  Rank        Date\n",
       "Isaac     88     3  2020-05-16\n",
       "Yan       90     1  2020-05-16\n",
       "Chuyi     75    10  2020-05-16"
      ]
     },
     "execution_count": 18,
     "metadata": {},
     "output_type": "execute_result"
    }
   ],
   "source": [
    "addColumn('Date', '2020-05-16', df)"
   ]
  },
  {
   "cell_type": "markdown",
   "metadata": {},
   "source": [
    "#### Add a Series Object As a Column"
   ]
  },
  {
   "cell_type": "code",
   "execution_count": 19,
   "metadata": {},
   "outputs": [],
   "source": [
    "\"\"\"\n",
    "    Add a Series Object as a column to a dataframe\n",
    "    \n",
    "    The index of the series object is not important but its length must be the same as the length \n",
    "    of the dataframe to be appended, otherwise an exception will be thrown.\n",
    "    \n",
    "    [String] column (column name), [Series] s, [DataFrame] df\n",
    "        => [DataFrame] df (new DataFrame with series s as a column appended)\n",
    "\"\"\"\n",
    "addSeriesColumn = lambda column, s, df: \\\n",
    "    pd.concat( [ df\n",
    "               , pd.DataFrame({column: s.values}, index=df.index)\n",
    "               ]\n",
    "             , axis=1\n",
    "             )"
   ]
  },
  {
   "cell_type": "code",
   "execution_count": 20,
   "metadata": {},
   "outputs": [
    {
     "data": {
      "text/plain": [
       "0    2020-05-16\n",
       "1    2020-05-17\n",
       "2    2020-05-18\n",
       "dtype: object"
      ]
     },
     "execution_count": 20,
     "metadata": {},
     "output_type": "execute_result"
    }
   ],
   "source": [
    "dates = pd.Series(['2020-05-16', '2020-05-17', '2020-05-18'])\n",
    "dates"
   ]
  },
  {
   "cell_type": "code",
   "execution_count": 21,
   "metadata": {},
   "outputs": [
    {
     "data": {
      "text/html": [
       "<div>\n",
       "<style scoped>\n",
       "    .dataframe tbody tr th:only-of-type {\n",
       "        vertical-align: middle;\n",
       "    }\n",
       "\n",
       "    .dataframe tbody tr th {\n",
       "        vertical-align: top;\n",
       "    }\n",
       "\n",
       "    .dataframe thead th {\n",
       "        text-align: right;\n",
       "    }\n",
       "</style>\n",
       "<table border=\"1\" class=\"dataframe\">\n",
       "  <thead>\n",
       "    <tr style=\"text-align: right;\">\n",
       "      <th></th>\n",
       "      <th>Score</th>\n",
       "      <th>Rank</th>\n",
       "      <th>Date</th>\n",
       "    </tr>\n",
       "  </thead>\n",
       "  <tbody>\n",
       "    <tr>\n",
       "      <th>Isaac</th>\n",
       "      <td>88</td>\n",
       "      <td>3</td>\n",
       "      <td>2020-05-16</td>\n",
       "    </tr>\n",
       "    <tr>\n",
       "      <th>Yan</th>\n",
       "      <td>90</td>\n",
       "      <td>1</td>\n",
       "      <td>2020-05-17</td>\n",
       "    </tr>\n",
       "    <tr>\n",
       "      <th>Chuyi</th>\n",
       "      <td>75</td>\n",
       "      <td>10</td>\n",
       "      <td>2020-05-18</td>\n",
       "    </tr>\n",
       "  </tbody>\n",
       "</table>\n",
       "</div>"
      ],
      "text/plain": [
       "       Score  Rank        Date\n",
       "Isaac     88     3  2020-05-16\n",
       "Yan       90     1  2020-05-17\n",
       "Chuyi     75    10  2020-05-18"
      ]
     },
     "execution_count": 21,
     "metadata": {},
     "output_type": "execute_result"
    }
   ],
   "source": [
    "addSeriesColumn('Date', dates, df)"
   ]
  },
  {
   "cell_type": "code",
   "execution_count": 22,
   "metadata": {},
   "outputs": [],
   "source": [
    "# Will go wrong! Because the length of the dataframe is not equal to the length of the series\n",
    "# addSeriesColumn( 'Date'\n",
    "#                , pd.Series(['2020-05-16', '2020-05-17'])\n",
    "#                , df)"
   ]
  },
  {
   "cell_type": "markdown",
   "metadata": {},
   "source": [
    "#### Create a New Series Then Add\n",
    "\n",
    "Sometimes we create a series from a dataframe and add it as a new column. This way, we don't have to worry about the index of the series. So two steps:\n",
    "\n",
    "1. Create a new series;\n",
    "2. Combine the new series to the dataframe."
   ]
  },
  {
   "cell_type": "code",
   "execution_count": 23,
   "metadata": {},
   "outputs": [
    {
     "data": {
      "text/html": [
       "<div>\n",
       "<style scoped>\n",
       "    .dataframe tbody tr th:only-of-type {\n",
       "        vertical-align: middle;\n",
       "    }\n",
       "\n",
       "    .dataframe tbody tr th {\n",
       "        vertical-align: top;\n",
       "    }\n",
       "\n",
       "    .dataframe thead th {\n",
       "        text-align: right;\n",
       "    }\n",
       "</style>\n",
       "<table border=\"1\" class=\"dataframe\">\n",
       "  <thead>\n",
       "    <tr style=\"text-align: right;\">\n",
       "      <th></th>\n",
       "      <th>Score</th>\n",
       "      <th>Rank</th>\n",
       "    </tr>\n",
       "  </thead>\n",
       "  <tbody>\n",
       "    <tr>\n",
       "      <th>Isaac</th>\n",
       "      <td>88</td>\n",
       "      <td>3</td>\n",
       "    </tr>\n",
       "    <tr>\n",
       "      <th>Yan</th>\n",
       "      <td>90</td>\n",
       "      <td>1</td>\n",
       "    </tr>\n",
       "    <tr>\n",
       "      <th>Chuyi</th>\n",
       "      <td>75</td>\n",
       "      <td>10</td>\n",
       "    </tr>\n",
       "  </tbody>\n",
       "</table>\n",
       "</div>"
      ],
      "text/plain": [
       "       Score  Rank\n",
       "Isaac     88     3\n",
       "Yan       90     1\n",
       "Chuyi     75    10"
      ]
     },
     "execution_count": 23,
     "metadata": {},
     "output_type": "execute_result"
    }
   ],
   "source": [
    "df"
   ]
  },
  {
   "cell_type": "code",
   "execution_count": 26,
   "metadata": {},
   "outputs": [
    {
     "data": {
      "text/plain": [
       "Isaac    Excellent\n",
       "Yan      Excellent\n",
       "Chuyi         Good\n",
       "Name: Rank, dtype: object"
      ]
     },
     "execution_count": 26,
     "metadata": {},
     "output_type": "execute_result"
    }
   ],
   "source": [
    "# create a new column\n",
    "comments = df['Rank'].apply(lambda x: 'Excellent' if x < 6 else 'Good')\n",
    "comments"
   ]
  },
  {
   "cell_type": "code",
   "execution_count": 27,
   "metadata": {},
   "outputs": [
    {
     "data": {
      "text/html": [
       "<div>\n",
       "<style scoped>\n",
       "    .dataframe tbody tr th:only-of-type {\n",
       "        vertical-align: middle;\n",
       "    }\n",
       "\n",
       "    .dataframe tbody tr th {\n",
       "        vertical-align: top;\n",
       "    }\n",
       "\n",
       "    .dataframe thead th {\n",
       "        text-align: right;\n",
       "    }\n",
       "</style>\n",
       "<table border=\"1\" class=\"dataframe\">\n",
       "  <thead>\n",
       "    <tr style=\"text-align: right;\">\n",
       "      <th></th>\n",
       "      <th>Score</th>\n",
       "      <th>Rank</th>\n",
       "      <th>Comments</th>\n",
       "    </tr>\n",
       "  </thead>\n",
       "  <tbody>\n",
       "    <tr>\n",
       "      <th>Isaac</th>\n",
       "      <td>88</td>\n",
       "      <td>3</td>\n",
       "      <td>Excellent</td>\n",
       "    </tr>\n",
       "    <tr>\n",
       "      <th>Yan</th>\n",
       "      <td>90</td>\n",
       "      <td>1</td>\n",
       "      <td>Excellent</td>\n",
       "    </tr>\n",
       "    <tr>\n",
       "      <th>Chuyi</th>\n",
       "      <td>75</td>\n",
       "      <td>10</td>\n",
       "      <td>Good</td>\n",
       "    </tr>\n",
       "  </tbody>\n",
       "</table>\n",
       "</div>"
      ],
      "text/plain": [
       "       Score  Rank   Comments\n",
       "Isaac     88     3  Excellent\n",
       "Yan       90     1  Excellent\n",
       "Chuyi     75    10       Good"
      ]
     },
     "execution_count": 27,
     "metadata": {},
     "output_type": "execute_result"
    }
   ],
   "source": [
    "# combine the new column\n",
    "pd.concat([df, pd.DataFrame({'Comments': comments})], axis=1)"
   ]
  },
  {
   "cell_type": "markdown",
   "metadata": {},
   "source": [
    "## Count NaN Values"
   ]
  },
  {
   "cell_type": "code",
   "execution_count": 34,
   "metadata": {},
   "outputs": [],
   "source": [
    "countNan = lambda v: v.isnull().apply(lambda x: 1 if x else 0).sum()"
   ]
  },
  {
   "cell_type": "markdown",
   "metadata": {},
   "source": [
    "Let's count number of NaN values in a vector"
   ]
  },
  {
   "cell_type": "code",
   "execution_count": 35,
   "metadata": {},
   "outputs": [
    {
     "data": {
      "text/plain": [
       "0    1.0\n",
       "1    2.0\n",
       "2    NaN\n",
       "3    0.0\n",
       "dtype: float64"
      ]
     },
     "execution_count": 35,
     "metadata": {},
     "output_type": "execute_result"
    }
   ],
   "source": [
    "s = pd.Series([1, 2, NaN, 0])\n",
    "s"
   ]
  },
  {
   "cell_type": "code",
   "execution_count": 36,
   "metadata": {},
   "outputs": [
    {
     "data": {
      "text/plain": [
       "1"
      ]
     },
     "execution_count": 36,
     "metadata": {},
     "output_type": "execute_result"
    }
   ],
   "source": [
    "countNan(s)"
   ]
  },
  {
   "cell_type": "code",
   "execution_count": 38,
   "metadata": {},
   "outputs": [
    {
     "data": {
      "text/html": [
       "<div>\n",
       "<style scoped>\n",
       "    .dataframe tbody tr th:only-of-type {\n",
       "        vertical-align: middle;\n",
       "    }\n",
       "\n",
       "    .dataframe tbody tr th {\n",
       "        vertical-align: top;\n",
       "    }\n",
       "\n",
       "    .dataframe thead th {\n",
       "        text-align: right;\n",
       "    }\n",
       "</style>\n",
       "<table border=\"1\" class=\"dataframe\">\n",
       "  <thead>\n",
       "    <tr style=\"text-align: right;\">\n",
       "      <th></th>\n",
       "      <th>value1</th>\n",
       "      <th>value2</th>\n",
       "    </tr>\n",
       "  </thead>\n",
       "  <tbody>\n",
       "    <tr>\n",
       "      <th>0</th>\n",
       "      <td>1.0</td>\n",
       "      <td>NaN</td>\n",
       "    </tr>\n",
       "    <tr>\n",
       "      <th>1</th>\n",
       "      <td>2.0</td>\n",
       "      <td>3.0</td>\n",
       "    </tr>\n",
       "    <tr>\n",
       "      <th>2</th>\n",
       "      <td>NaN</td>\n",
       "      <td>NaN</td>\n",
       "    </tr>\n",
       "  </tbody>\n",
       "</table>\n",
       "</div>"
      ],
      "text/plain": [
       "   value1  value2\n",
       "0     1.0     NaN\n",
       "1     2.0     3.0\n",
       "2     NaN     NaN"
      ]
     },
     "execution_count": 38,
     "metadata": {},
     "output_type": "execute_result"
    }
   ],
   "source": [
    "df = pd.DataFrame([[1, NaN], [2, 3], [NaN, NaN]], columns=['value1', 'value2'])\n",
    "df"
   ]
  },
  {
   "cell_type": "code",
   "execution_count": 39,
   "metadata": {},
   "outputs": [
    {
     "data": {
      "text/plain": [
       "value1    1\n",
       "value2    2\n",
       "dtype: int64"
      ]
     },
     "execution_count": 39,
     "metadata": {},
     "output_type": "execute_result"
    }
   ],
   "source": [
    "df.apply(countNan)"
   ]
  },
  {
   "cell_type": "markdown",
   "metadata": {},
   "source": [
    "### Count NaN Percentage"
   ]
  },
  {
   "cell_type": "code",
   "execution_count": 43,
   "metadata": {},
   "outputs": [],
   "source": [
    "countNanPercent = lambda v: countNan(v)/v.size"
   ]
  },
  {
   "cell_type": "code",
   "execution_count": 41,
   "metadata": {},
   "outputs": [
    {
     "data": {
      "text/plain": [
       "0.25"
      ]
     },
     "execution_count": 41,
     "metadata": {},
     "output_type": "execute_result"
    }
   ],
   "source": [
    "countNanPercent(s)"
   ]
  },
  {
   "cell_type": "code",
   "execution_count": 42,
   "metadata": {},
   "outputs": [
    {
     "data": {
      "text/plain": [
       "value1    0.333333\n",
       "value2    0.666667\n",
       "dtype: float64"
      ]
     },
     "execution_count": 42,
     "metadata": {},
     "output_type": "execute_result"
    }
   ],
   "source": [
    "df.apply(countNanPercent)"
   ]
  },
  {
   "cell_type": "markdown",
   "metadata": {},
   "source": [
    "## Filter DataFrame Rows By Function\n",
    "\n",
    "To filter dataframe rows, we need a boolean series. One way to generate a boolean series is through an expression, e.g., df\\[x\\] == y, where x is the column name and y is a value.\n",
    "\n",
    "What if we need a logic that's more complicated, e.g, taking values from several columns then doing some calculation. We need a function instead. So, how to filter rows by a function? Two steps:\n",
    "\n",
    "1. Generate a boolean series through apply();\n",
    "2. Filter rows using the series."
   ]
  },
  {
   "cell_type": "code",
   "execution_count": 5,
   "metadata": {},
   "outputs": [
    {
     "data": {
      "text/html": [
       "<div>\n",
       "<style scoped>\n",
       "    .dataframe tbody tr th:only-of-type {\n",
       "        vertical-align: middle;\n",
       "    }\n",
       "\n",
       "    .dataframe tbody tr th {\n",
       "        vertical-align: top;\n",
       "    }\n",
       "\n",
       "    .dataframe thead th {\n",
       "        text-align: right;\n",
       "    }\n",
       "</style>\n",
       "<table border=\"1\" class=\"dataframe\">\n",
       "  <thead>\n",
       "    <tr style=\"text-align: right;\">\n",
       "      <th></th>\n",
       "      <th>Investment</th>\n",
       "      <th>Profit</th>\n",
       "      <th>Profit Ratio</th>\n",
       "    </tr>\n",
       "  </thead>\n",
       "  <tbody>\n",
       "    <tr>\n",
       "      <th>0</th>\n",
       "      <td>700 HK</td>\n",
       "      <td>3500</td>\n",
       "      <td>1.25</td>\n",
       "    </tr>\n",
       "    <tr>\n",
       "      <th>1</th>\n",
       "      <td>BABA US</td>\n",
       "      <td>10200</td>\n",
       "      <td>0.36</td>\n",
       "    </tr>\n",
       "    <tr>\n",
       "      <th>2</th>\n",
       "      <td>TSLA US</td>\n",
       "      <td>15000</td>\n",
       "      <td>3.25</td>\n",
       "    </tr>\n",
       "  </tbody>\n",
       "</table>\n",
       "</div>"
      ],
      "text/plain": [
       "  Investment  Profit  Profit Ratio\n",
       "0     700 HK    3500          1.25\n",
       "1    BABA US   10200          0.36\n",
       "2    TSLA US   15000          3.25"
      ]
     },
     "execution_count": 5,
     "metadata": {},
     "output_type": "execute_result"
    }
   ],
   "source": [
    "df = pd.DataFrame( [['700 HK', 3500, 1.25], ['BABA US', 10200, 0.36], ['TSLA US', 15000, 3.25]]\n",
    "                 , columns=['Investment', 'Profit', 'Profit Ratio']\n",
    "                 )\n",
    "df"
   ]
  },
  {
   "cell_type": "markdown",
   "metadata": {},
   "source": [
    "Now, we want to selection the investments that satisfy the following:\n",
    "\n",
    "1. Profit > 10,000;\n",
    "2. Profit ration > 1.0"
   ]
  },
  {
   "cell_type": "code",
   "execution_count": 9,
   "metadata": {},
   "outputs": [
    {
     "data": {
      "text/plain": [
       "0    False\n",
       "1    False\n",
       "2     True\n",
       "dtype: bool"
      ]
     },
     "execution_count": 9,
     "metadata": {},
     "output_type": "execute_result"
    }
   ],
   "source": [
    "def successful(row):\n",
    "    return row['Profit'] > 10000 and row['Profit Ratio'] > 1.0\n",
    "\n",
    "\n",
    "selector = df.apply(successful, axis=1)\n",
    "selector"
   ]
  },
  {
   "cell_type": "code",
   "execution_count": 10,
   "metadata": {},
   "outputs": [
    {
     "data": {
      "text/html": [
       "<div>\n",
       "<style scoped>\n",
       "    .dataframe tbody tr th:only-of-type {\n",
       "        vertical-align: middle;\n",
       "    }\n",
       "\n",
       "    .dataframe tbody tr th {\n",
       "        vertical-align: top;\n",
       "    }\n",
       "\n",
       "    .dataframe thead th {\n",
       "        text-align: right;\n",
       "    }\n",
       "</style>\n",
       "<table border=\"1\" class=\"dataframe\">\n",
       "  <thead>\n",
       "    <tr style=\"text-align: right;\">\n",
       "      <th></th>\n",
       "      <th>Investment</th>\n",
       "      <th>Profit</th>\n",
       "      <th>Profit Ratio</th>\n",
       "    </tr>\n",
       "  </thead>\n",
       "  <tbody>\n",
       "    <tr>\n",
       "      <th>2</th>\n",
       "      <td>TSLA US</td>\n",
       "      <td>15000</td>\n",
       "      <td>3.25</td>\n",
       "    </tr>\n",
       "  </tbody>\n",
       "</table>\n",
       "</div>"
      ],
      "text/plain": [
       "  Investment  Profit  Profit Ratio\n",
       "2    TSLA US   15000          3.25"
      ]
     },
     "execution_count": 10,
     "metadata": {},
     "output_type": "execute_result"
    }
   ],
   "source": [
    "df[df.apply(successful, axis=1)]"
   ]
  },
  {
   "cell_type": "markdown",
   "metadata": {},
   "source": [
    "## Read DataFrame from Lines\n",
    "\n",
    "We have read_csv() and read_excel() from pandas. But sometimes we need to filter lines and columns from an Excel or Csv file before feeding them to the dataframe. Therefore we need a read_lines() function to create dataframe. Here is how."
   ]
  },
  {
   "cell_type": "code",
   "execution_count": 3,
   "metadata": {},
   "outputs": [],
   "source": [
    "from utils.iter import pop\n",
    "from toolz.functoolz import compose\n",
    "\n",
    "\"\"\"\n",
    "    [Iterator] lines => [DataFrame] df\n",
    "    \n",
    "    lines is an iterator over lines, where each line is a list or an iterator over values. The first line is the headers (column\n",
    "    names).\n",
    "    \n",
    "    Note: for the pop() function to work properly, lines cannot be a List.\n",
    "\"\"\"\n",
    "read_lines = compose(\n",
    "    lambda t: pd.DataFrame(t[1], columns=t[0])\n",
    "  , lambda lines: (pop(lines), lines)\n",
    ")"
   ]
  },
  {
   "cell_type": "markdown",
   "metadata": {},
   "source": [
    "Let's use an Excel file as an example."
   ]
  },
  {
   "cell_type": "code",
   "execution_count": 9,
   "metadata": {},
   "outputs": [
    {
     "data": {
      "text/html": [
       "<div>\n",
       "<style scoped>\n",
       "    .dataframe tbody tr th:only-of-type {\n",
       "        vertical-align: middle;\n",
       "    }\n",
       "\n",
       "    .dataframe tbody tr th {\n",
       "        vertical-align: top;\n",
       "    }\n",
       "\n",
       "    .dataframe thead th {\n",
       "        text-align: right;\n",
       "    }\n",
       "</style>\n",
       "<table border=\"1\" class=\"dataframe\">\n",
       "  <thead>\n",
       "    <tr style=\"text-align: right;\">\n",
       "      <th></th>\n",
       "      <th>ReportMode</th>\n",
       "      <th>LongShortDescription</th>\n",
       "      <th>SortKey</th>\n",
       "      <th>LocalCurrency</th>\n",
       "      <th>BasketInvestDescription</th>\n",
       "      <th>Description</th>\n",
       "      <th>InvestID</th>\n",
       "      <th>Quantity</th>\n",
       "      <th>LocalPrice</th>\n",
       "      <th>CostLocal</th>\n",
       "      <th>CostBook</th>\n",
       "      <th>BookUnrealizedGainOrLoss</th>\n",
       "      <th>AccruedInterest</th>\n",
       "      <th>MarketValueBook</th>\n",
       "      <th>Invest</th>\n",
       "    </tr>\n",
       "  </thead>\n",
       "  <tbody>\n",
       "    <tr>\n",
       "      <th>193</th>\n",
       "      <td>Payable Investments</td>\n",
       "      <td>SFC Annual Fee Payable</td>\n",
       "      <td>Cash and Equivalents</td>\n",
       "      <td>Hong Kong Dollar</td>\n",
       "      <td></td>\n",
       "      <td>Hong Kong Dollar</td>\n",
       "      <td>HKD</td>\n",
       "      <td>515.28</td>\n",
       "      <td>1</td>\n",
       "      <td>515.28</td>\n",
       "      <td>515.28</td>\n",
       "      <td>0.00</td>\n",
       "      <td>0.0</td>\n",
       "      <td>515.28</td>\n",
       "      <td>0.0000</td>\n",
       "    </tr>\n",
       "    <tr>\n",
       "      <th>194</th>\n",
       "      <td>Payable Investments</td>\n",
       "      <td>SoldAI</td>\n",
       "      <td>Cash and Equivalents</td>\n",
       "      <td>United States Dollar</td>\n",
       "      <td></td>\n",
       "      <td>United States Dollar</td>\n",
       "      <td>USD</td>\n",
       "      <td>-579734.96</td>\n",
       "      <td>1</td>\n",
       "      <td>-579734.96</td>\n",
       "      <td>-4493908.07</td>\n",
       "      <td>266.43</td>\n",
       "      <td>0.0</td>\n",
       "      <td>-4493641.64</td>\n",
       "      <td>0.0175</td>\n",
       "    </tr>\n",
       "    <tr>\n",
       "      <th>195</th>\n",
       "      <td>Payable Investments</td>\n",
       "      <td>SubscriptionsInAdvance</td>\n",
       "      <td>Cash and Equivalents</td>\n",
       "      <td>Hong Kong Dollar</td>\n",
       "      <td></td>\n",
       "      <td>Hong Kong Dollar</td>\n",
       "      <td>HKD</td>\n",
       "      <td>-2282680.79</td>\n",
       "      <td>1</td>\n",
       "      <td>-2282680.79</td>\n",
       "      <td>-2282680.79</td>\n",
       "      <td>0.00</td>\n",
       "      <td>0.0</td>\n",
       "      <td>-2282680.79</td>\n",
       "      <td>0.0089</td>\n",
       "    </tr>\n",
       "    <tr>\n",
       "      <th>196</th>\n",
       "      <td>Payable Investments</td>\n",
       "      <td>System Fee Payable</td>\n",
       "      <td>Cash and Equivalents</td>\n",
       "      <td>United States Dollar</td>\n",
       "      <td></td>\n",
       "      <td>United States Dollar</td>\n",
       "      <td>USD</td>\n",
       "      <td>-8550.00</td>\n",
       "      <td>1</td>\n",
       "      <td>-8550.00</td>\n",
       "      <td>-66591.28</td>\n",
       "      <td>0.00</td>\n",
       "      <td>0.0</td>\n",
       "      <td>-66591.28</td>\n",
       "      <td>0.0003</td>\n",
       "    </tr>\n",
       "    <tr>\n",
       "      <th>197</th>\n",
       "      <td>Payable Investments</td>\n",
       "      <td>Trustee Directors and Officers Fees Payable</td>\n",
       "      <td>Cash and Equivalents</td>\n",
       "      <td>Hong Kong Dollar</td>\n",
       "      <td></td>\n",
       "      <td>Hong Kong Dollar</td>\n",
       "      <td>HKD</td>\n",
       "      <td>-1911151.15</td>\n",
       "      <td>1</td>\n",
       "      <td>-1911151.15</td>\n",
       "      <td>-1911151.15</td>\n",
       "      <td>0.00</td>\n",
       "      <td>0.0</td>\n",
       "      <td>-1911151.15</td>\n",
       "      <td>0.0074</td>\n",
       "    </tr>\n",
       "  </tbody>\n",
       "</table>\n",
       "</div>"
      ],
      "text/plain": [
       "              ReportMode                         LongShortDescription  \\\n",
       "193  Payable Investments                       SFC Annual Fee Payable   \n",
       "194  Payable Investments                                       SoldAI   \n",
       "195  Payable Investments                       SubscriptionsInAdvance   \n",
       "196  Payable Investments                           System Fee Payable   \n",
       "197  Payable Investments  Trustee Directors and Officers Fees Payable   \n",
       "\n",
       "                  SortKey         LocalCurrency BasketInvestDescription  \\\n",
       "193  Cash and Equivalents      Hong Kong Dollar                           \n",
       "194  Cash and Equivalents  United States Dollar                           \n",
       "195  Cash and Equivalents      Hong Kong Dollar                           \n",
       "196  Cash and Equivalents  United States Dollar                           \n",
       "197  Cash and Equivalents      Hong Kong Dollar                           \n",
       "\n",
       "              Description InvestID    Quantity LocalPrice   CostLocal  \\\n",
       "193      Hong Kong Dollar      HKD      515.28          1      515.28   \n",
       "194  United States Dollar      USD  -579734.96          1  -579734.96   \n",
       "195      Hong Kong Dollar      HKD -2282680.79          1 -2282680.79   \n",
       "196  United States Dollar      USD    -8550.00          1    -8550.00   \n",
       "197      Hong Kong Dollar      HKD -1911151.15          1 -1911151.15   \n",
       "\n",
       "       CostBook  BookUnrealizedGainOrLoss  AccruedInterest  MarketValueBook  \\\n",
       "193      515.28                      0.00              0.0           515.28   \n",
       "194 -4493908.07                    266.43              0.0      -4493641.64   \n",
       "195 -2282680.79                      0.00              0.0      -2282680.79   \n",
       "196   -66591.28                      0.00              0.0        -66591.28   \n",
       "197 -1911151.15                      0.00              0.0      -1911151.15   \n",
       "\n",
       "     Invest  \n",
       "193  0.0000  \n",
       "194  0.0175  \n",
       "195  0.0089  \n",
       "196  0.0003  \n",
       "197  0.0074  "
      ]
     },
     "execution_count": 9,
     "metadata": {},
     "output_type": "execute_result"
    }
   ],
   "source": [
    "from utils.excel import fileToLines\n",
    "from itertools import takewhile\n",
    "from functools import partial\n",
    "\n",
    "compose(\n",
    "    read_lines\n",
    "  , partial(takewhile, lambda line: len(line) > 0 and line[0] != '')\n",
    "  , fileToLines\n",
    ")('data/19437_Investment_Positions_20200529.xlsx').tail()"
   ]
  },
  {
   "cell_type": "code",
   "execution_count": null,
   "metadata": {},
   "outputs": [],
   "source": []
  }
 ],
 "metadata": {
  "kernelspec": {
   "display_name": "Python 3",
   "language": "python",
   "name": "python3"
  },
  "language_info": {
   "codemirror_mode": {
    "name": "ipython",
    "version": 3
   },
   "file_extension": ".py",
   "mimetype": "text/x-python",
   "name": "python",
   "nbconvert_exporter": "python",
   "pygments_lexer": "ipython3",
   "version": "3.6.3"
  }
 },
 "nbformat": 4,
 "nbformat_minor": 4
}
