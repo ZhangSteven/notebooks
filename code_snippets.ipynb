{
 "cells": [
  {
   "cell_type": "markdown",
   "metadata": {},
   "source": [
    "# Code Snippets\n",
    "\n",
    "Little code samples"
   ]
  },
  {
   "cell_type": "code",
   "execution_count": 1,
   "metadata": {},
   "outputs": [],
   "source": [
    "import pandas as pd"
   ]
  },
  {
   "cell_type": "markdown",
   "metadata": {},
   "source": [
    "### Add a Column to DataFrame\n",
    "\n",
    "Add a column of to a DataFrame object. We are going to use pd.concat() function to achieve the result. To make it work, we need to:\n",
    "\n",
    "1. Create a dataframe of a single column, with the column name specified by the user;\n",
    "2. Align the index of the new dataframe with the dataframe we are appending to;\n",
    "3. Call concat().\n",
    "\n",
    "#### Add a List of Fixed Values As a Column"
   ]
  },
  {
   "cell_type": "code",
   "execution_count": 17,
   "metadata": {},
   "outputs": [],
   "source": [
    "from itertools import repeat\n",
    "\n",
    "\"\"\"\n",
    "    Add a column of fixed value to a dataframe\n",
    "    \n",
    "    [String] column (column name), [Object] value (any value type that can be put into a dataframe), [DataFrame] df\n",
    "        => [DataFrame] df (new DataFrame with a column appended)\n",
    "\"\"\"\n",
    "addColumn = lambda column, value, df: \\\n",
    "    pd.concat( [ df\n",
    "               , pd.DataFrame(repeat([value], len(df)), columns=[column], index=df.index)\n",
    "               ]\n",
    "             , axis=1\n",
    "             )"
   ]
  },
  {
   "cell_type": "markdown",
   "metadata": {},
   "source": [
    "Try it out"
   ]
  },
  {
   "cell_type": "code",
   "execution_count": 18,
   "metadata": {},
   "outputs": [
    {
     "data": {
      "text/html": [
       "<div>\n",
       "<style scoped>\n",
       "    .dataframe tbody tr th:only-of-type {\n",
       "        vertical-align: middle;\n",
       "    }\n",
       "\n",
       "    .dataframe tbody tr th {\n",
       "        vertical-align: top;\n",
       "    }\n",
       "\n",
       "    .dataframe thead th {\n",
       "        text-align: right;\n",
       "    }\n",
       "</style>\n",
       "<table border=\"1\" class=\"dataframe\">\n",
       "  <thead>\n",
       "    <tr style=\"text-align: right;\">\n",
       "      <th></th>\n",
       "      <th>Score</th>\n",
       "      <th>Rank</th>\n",
       "    </tr>\n",
       "  </thead>\n",
       "  <tbody>\n",
       "    <tr>\n",
       "      <th>Isaac</th>\n",
       "      <td>88</td>\n",
       "      <td>3</td>\n",
       "    </tr>\n",
       "    <tr>\n",
       "      <th>Yan</th>\n",
       "      <td>90</td>\n",
       "      <td>1</td>\n",
       "    </tr>\n",
       "    <tr>\n",
       "      <th>Chuyi</th>\n",
       "      <td>75</td>\n",
       "      <td>10</td>\n",
       "    </tr>\n",
       "  </tbody>\n",
       "</table>\n",
       "</div>"
      ],
      "text/plain": [
       "       Score  Rank\n",
       "Isaac     88     3\n",
       "Yan       90     1\n",
       "Chuyi     75    10"
      ]
     },
     "execution_count": 18,
     "metadata": {},
     "output_type": "execute_result"
    }
   ],
   "source": [
    "df = pd.DataFrame( [[88, 3], [90, 1], [75, 10]]\n",
    "                 , columns=['Score', 'Rank']\n",
    "                 , index=['Isaac', 'Yan', 'Chuyi'])\n",
    "df"
   ]
  },
  {
   "cell_type": "code",
   "execution_count": 19,
   "metadata": {},
   "outputs": [
    {
     "data": {
      "text/html": [
       "<div>\n",
       "<style scoped>\n",
       "    .dataframe tbody tr th:only-of-type {\n",
       "        vertical-align: middle;\n",
       "    }\n",
       "\n",
       "    .dataframe tbody tr th {\n",
       "        vertical-align: top;\n",
       "    }\n",
       "\n",
       "    .dataframe thead th {\n",
       "        text-align: right;\n",
       "    }\n",
       "</style>\n",
       "<table border=\"1\" class=\"dataframe\">\n",
       "  <thead>\n",
       "    <tr style=\"text-align: right;\">\n",
       "      <th></th>\n",
       "      <th>Score</th>\n",
       "      <th>Rank</th>\n",
       "      <th>Date</th>\n",
       "    </tr>\n",
       "  </thead>\n",
       "  <tbody>\n",
       "    <tr>\n",
       "      <th>Isaac</th>\n",
       "      <td>88</td>\n",
       "      <td>3</td>\n",
       "      <td>2020-05-16</td>\n",
       "    </tr>\n",
       "    <tr>\n",
       "      <th>Yan</th>\n",
       "      <td>90</td>\n",
       "      <td>1</td>\n",
       "      <td>2020-05-16</td>\n",
       "    </tr>\n",
       "    <tr>\n",
       "      <th>Chuyi</th>\n",
       "      <td>75</td>\n",
       "      <td>10</td>\n",
       "      <td>2020-05-16</td>\n",
       "    </tr>\n",
       "  </tbody>\n",
       "</table>\n",
       "</div>"
      ],
      "text/plain": [
       "       Score  Rank        Date\n",
       "Isaac     88     3  2020-05-16\n",
       "Yan       90     1  2020-05-16\n",
       "Chuyi     75    10  2020-05-16"
      ]
     },
     "execution_count": 19,
     "metadata": {},
     "output_type": "execute_result"
    }
   ],
   "source": [
    "addColumn('Date', '2020-05-16', df)"
   ]
  },
  {
   "cell_type": "markdown",
   "metadata": {},
   "source": [
    "#### Add a Series Object As a Column"
   ]
  },
  {
   "cell_type": "code",
   "execution_count": 53,
   "metadata": {},
   "outputs": [],
   "source": [
    "\"\"\"\n",
    "    Add a Series Object as a column to a dataframe\n",
    "    \n",
    "    The index of the series object is not important but its length must be the same as the length \n",
    "    of the dataframe to be appended, otherwise an exception will be thrown.\n",
    "    \n",
    "    [String] column (column name), [Series] s, [DataFrame] df\n",
    "        => [DataFrame] df (new DataFrame with series s as a column appended)\n",
    "\"\"\"\n",
    "addSeriesColumn = lambda column, s, df: \\\n",
    "    pd.concat( [ df\n",
    "               , pd.DataFrame({column: s.values}, index=df.index)\n",
    "               ]\n",
    "             , axis=1\n",
    "             )"
   ]
  },
  {
   "cell_type": "code",
   "execution_count": 54,
   "metadata": {},
   "outputs": [
    {
     "data": {
      "text/plain": [
       "0    2020-05-16\n",
       "1    2020-05-17\n",
       "2    2020-05-18\n",
       "dtype: object"
      ]
     },
     "execution_count": 54,
     "metadata": {},
     "output_type": "execute_result"
    }
   ],
   "source": [
    "dates = pd.Series(['2020-05-16', '2020-05-17', '2020-05-18'])\n",
    "dates"
   ]
  },
  {
   "cell_type": "code",
   "execution_count": 55,
   "metadata": {},
   "outputs": [
    {
     "data": {
      "text/html": [
       "<div>\n",
       "<style scoped>\n",
       "    .dataframe tbody tr th:only-of-type {\n",
       "        vertical-align: middle;\n",
       "    }\n",
       "\n",
       "    .dataframe tbody tr th {\n",
       "        vertical-align: top;\n",
       "    }\n",
       "\n",
       "    .dataframe thead th {\n",
       "        text-align: right;\n",
       "    }\n",
       "</style>\n",
       "<table border=\"1\" class=\"dataframe\">\n",
       "  <thead>\n",
       "    <tr style=\"text-align: right;\">\n",
       "      <th></th>\n",
       "      <th>Score</th>\n",
       "      <th>Rank</th>\n",
       "      <th>Date</th>\n",
       "    </tr>\n",
       "  </thead>\n",
       "  <tbody>\n",
       "    <tr>\n",
       "      <th>Isaac</th>\n",
       "      <td>88</td>\n",
       "      <td>3</td>\n",
       "      <td>2020-05-16</td>\n",
       "    </tr>\n",
       "    <tr>\n",
       "      <th>Yan</th>\n",
       "      <td>90</td>\n",
       "      <td>1</td>\n",
       "      <td>2020-05-17</td>\n",
       "    </tr>\n",
       "    <tr>\n",
       "      <th>Chuyi</th>\n",
       "      <td>75</td>\n",
       "      <td>10</td>\n",
       "      <td>2020-05-18</td>\n",
       "    </tr>\n",
       "  </tbody>\n",
       "</table>\n",
       "</div>"
      ],
      "text/plain": [
       "       Score  Rank        Date\n",
       "Isaac     88     3  2020-05-16\n",
       "Yan       90     1  2020-05-17\n",
       "Chuyi     75    10  2020-05-18"
      ]
     },
     "execution_count": 55,
     "metadata": {},
     "output_type": "execute_result"
    }
   ],
   "source": [
    "addSeriesColumn('Date', dates, df)"
   ]
  },
  {
   "cell_type": "code",
   "execution_count": 52,
   "metadata": {},
   "outputs": [],
   "source": [
    "# Will go wrong! Because the length of the dataframe is not equal to the length of the series\n",
    "# addSeriesColumn( 'Date'\n",
    "#                , pd.Series(['2020-05-16', '2020-05-17'])\n",
    "#                , df)"
   ]
  },
  {
   "cell_type": "code",
   "execution_count": null,
   "metadata": {},
   "outputs": [],
   "source": []
  }
 ],
 "metadata": {
  "kernelspec": {
   "display_name": "Python 3",
   "language": "python",
   "name": "python3"
  },
  "language_info": {
   "codemirror_mode": {
    "name": "ipython",
    "version": 3
   },
   "file_extension": ".py",
   "mimetype": "text/x-python",
   "name": "python",
   "nbconvert_exporter": "python",
   "pygments_lexer": "ipython3",
   "version": "3.8.2"
  }
 },
 "nbformat": 4,
 "nbformat_minor": 4
}
