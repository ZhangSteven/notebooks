{
 "cells": [
  {
   "cell_type": "markdown",
   "metadata": {},
   "source": [
    "# Solve 20051\n",
    "\n",
    "Sort out the negative interest income problem in 20051"
   ]
  },
  {
   "cell_type": "code",
   "execution_count": 2,
   "metadata": {},
   "outputs": [],
   "source": [
    "import pandas as pd\n",
    "from os.path import join\n",
    "from itertools import takewhile, repeat\n",
    "from functools import partial\n",
    "from utils.iter import pop\n",
    "from utils.excel import fileToLines\n",
    "from toolz.functoolz import compose"
   ]
  },
  {
   "cell_type": "code",
   "execution_count": 8,
   "metadata": {},
   "outputs": [],
   "source": [
    "baseDir = r'C:\\Users\\steven.zhang\\Desktop\\20051'"
   ]
  },
  {
   "cell_type": "code",
   "execution_count": 9,
   "metadata": {},
   "outputs": [],
   "source": [
    "\"\"\"\n",
    "    [String] file => ([List] headers, [Iterator] subsequent lines)\n",
    "\"\"\"\n",
    "getLinesFromFile = compose(\n",
    "    lambda lines: (pop(lines), lines)\n",
    "  , partial(takewhile, lambda line: len(line) > 0 and line[0] != '')\n",
    "  , fileToLines\n",
    ")\n",
    "\n",
    "\n",
    "getDataFromLines = compose(\n",
    "    lambda t: pd.DataFrame(t[1], columns=t[0])\n",
    "  , getLinesFromFile\n",
    ")\n",
    "\n",
    "\n",
    "getInvestmentFile = lambda dt: join(baseDir, '20051 investment position ' + dt + '.xlsx')\n",
    "\n",
    "getProfitLossFile = lambda dt: join(baseDir, '20051 profit loss ' + dt + '.xlsx')\n",
    "\n",
    "\n",
    "\"\"\"\n",
    "    [String] dt (yyyymmdd) => [DataFrame] df\n",
    "\"\"\"\n",
    "getInvestmentPosition = compose(\n",
    "    getDataFromLines\n",
    "  , getInvestmentFile\n",
    ")\n",
    "\n",
    "\n",
    "\"\"\"\n",
    "    [String] dt (yyyymmdd) => [DataFrame] df\n",
    "\"\"\"\n",
    "getProfitLoss = compose(\n",
    "    getDataFromLines\n",
    "  , getProfitLossFile\n",
    ")"
   ]
  },
  {
   "cell_type": "code",
   "execution_count": 31,
   "metadata": {},
   "outputs": [
    {
     "data": {
      "text/html": [
       "<div>\n",
       "<style scoped>\n",
       "    .dataframe tbody tr th:only-of-type {\n",
       "        vertical-align: middle;\n",
       "    }\n",
       "\n",
       "    .dataframe tbody tr th {\n",
       "        vertical-align: top;\n",
       "    }\n",
       "\n",
       "    .dataframe thead th {\n",
       "        text-align: right;\n",
       "    }\n",
       "</style>\n",
       "<table border=\"1\" class=\"dataframe\">\n",
       "  <thead>\n",
       "    <tr style=\"text-align: right;\">\n",
       "      <th></th>\n",
       "      <th>Invest_x</th>\n",
       "      <th>Interest</th>\n",
       "      <th>AccruedInterest</th>\n",
       "      <th>TotalPAndL</th>\n",
       "      <th>Date</th>\n",
       "    </tr>\n",
       "  </thead>\n",
       "  <tbody>\n",
       "    <tr>\n",
       "      <th>0</th>\n",
       "      <td>XS1376566714 HTM</td>\n",
       "      <td>367916.07</td>\n",
       "      <td>645387.3</td>\n",
       "      <td>300190.91</td>\n",
       "      <td>20200413</td>\n",
       "    </tr>\n",
       "  </tbody>\n",
       "</table>\n",
       "</div>"
      ],
      "text/plain": [
       "           Invest_x   Interest  AccruedInterest  TotalPAndL      Date\n",
       "0  XS1376566714 HTM  367916.07         645387.3   300190.91  20200413"
      ]
     },
     "execution_count": 31,
     "metadata": {},
     "output_type": "execute_result"
    }
   ],
   "source": [
    "select = lambda df: df[df['Invest'] == 'XS1376566714 HTM']\n",
    "\n",
    "\n",
    "\"\"\"\n",
    "    [DataFrame] df => [DateFrame] df\n",
    "    \n",
    "    Add 'Date' column to df\n",
    "\"\"\"\n",
    "addDate = lambda dt, df: \\\n",
    "    pd.concat([df, pd.DataFrame(repeat([dt], len(df)), columns=['Date'], index=df.index)], axis=1)\n",
    "\n",
    "\n",
    "\"\"\"\n",
    "    [String] dt (yyyymmdd) => [DataFrame] df\n",
    "\"\"\"\n",
    "getPlData = lambda dt: \\\n",
    "compose(\n",
    "    partial(addDate, dt)\n",
    "  , lambda t: select(t[0]).merge(t[1], left_on='Invest', right_on='InvestID')[['Invest_x', 'Interest', 'AccruedInterest', 'TotalPAndL']]\n",
    "  , lambda dt: (getProfitLoss(dt), getInvestmentPosition(dt))\n",
    ")(dt)\n",
    "\n",
    "getPlData('20200413')"
   ]
  },
  {
   "cell_type": "code",
   "execution_count": 32,
   "metadata": {},
   "outputs": [
    {
     "data": {
      "text/html": [
       "<div>\n",
       "<style scoped>\n",
       "    .dataframe tbody tr th:only-of-type {\n",
       "        vertical-align: middle;\n",
       "    }\n",
       "\n",
       "    .dataframe tbody tr th {\n",
       "        vertical-align: top;\n",
       "    }\n",
       "\n",
       "    .dataframe thead th {\n",
       "        text-align: right;\n",
       "    }\n",
       "</style>\n",
       "<table border=\"1\" class=\"dataframe\">\n",
       "  <thead>\n",
       "    <tr style=\"text-align: right;\">\n",
       "      <th></th>\n",
       "      <th>Invest_x</th>\n",
       "      <th>Interest</th>\n",
       "      <th>AccruedInterest</th>\n",
       "      <th>TotalPAndL</th>\n",
       "      <th>Date</th>\n",
       "    </tr>\n",
       "  </thead>\n",
       "  <tbody>\n",
       "    <tr>\n",
       "      <th>0</th>\n",
       "      <td>XS1376566714 HTM</td>\n",
       "      <td>367916.07</td>\n",
       "      <td>645387.30</td>\n",
       "      <td>300190.91</td>\n",
       "      <td>20200413</td>\n",
       "    </tr>\n",
       "    <tr>\n",
       "      <th>0</th>\n",
       "      <td>XS1376566714 HTM</td>\n",
       "      <td>-273886.21</td>\n",
       "      <td>3585.02</td>\n",
       "      <td>-344110.90</td>\n",
       "      <td>20200414</td>\n",
       "    </tr>\n",
       "    <tr>\n",
       "      <th>0</th>\n",
       "      <td>XS1376566714 HTM</td>\n",
       "      <td>-243708.73</td>\n",
       "      <td>33762.50</td>\n",
       "      <td>-253432.69</td>\n",
       "      <td>20200626</td>\n",
       "    </tr>\n",
       "  </tbody>\n",
       "</table>\n",
       "</div>"
      ],
      "text/plain": [
       "           Invest_x   Interest  AccruedInterest  TotalPAndL      Date\n",
       "0  XS1376566714 HTM  367916.07        645387.30   300190.91  20200413\n",
       "0  XS1376566714 HTM -273886.21          3585.02  -344110.90  20200414\n",
       "0  XS1376566714 HTM -243708.73         33762.50  -253432.69  20200626"
      ]
     },
     "execution_count": 32,
     "metadata": {},
     "output_type": "execute_result"
    }
   ],
   "source": [
    "pd.concat(map(getPlData, ['20200413', '20200414', '20200626']))"
   ]
  },
  {
   "cell_type": "code",
   "execution_count": 34,
   "metadata": {},
   "outputs": [],
   "source": [
    "getCashPlData = lambda dt: \\\n",
    "compose(\n",
    "    partial(addDate, dt)\n",
    "  , lambda df: df[df['Invest'] == 'USD'][['Invest', 'TotalPAndL']]\n",
    "  , getProfitLoss\n",
    ")(dt)\n",
    "\n",
    "x = getCashPlData('20200413')"
   ]
  },
  {
   "cell_type": "code",
   "execution_count": 35,
   "metadata": {},
   "outputs": [
    {
     "data": {
      "text/html": [
       "<div>\n",
       "<style scoped>\n",
       "    .dataframe tbody tr th:only-of-type {\n",
       "        vertical-align: middle;\n",
       "    }\n",
       "\n",
       "    .dataframe tbody tr th {\n",
       "        vertical-align: top;\n",
       "    }\n",
       "\n",
       "    .dataframe thead th {\n",
       "        text-align: right;\n",
       "    }\n",
       "</style>\n",
       "<table border=\"1\" class=\"dataframe\">\n",
       "  <thead>\n",
       "    <tr style=\"text-align: right;\">\n",
       "      <th></th>\n",
       "      <th>Invest</th>\n",
       "      <th>TotalPAndL</th>\n",
       "      <th>Date</th>\n",
       "    </tr>\n",
       "  </thead>\n",
       "  <tbody>\n",
       "    <tr>\n",
       "      <th>29</th>\n",
       "      <td>USD</td>\n",
       "      <td>-117717.17</td>\n",
       "      <td>20200413</td>\n",
       "    </tr>\n",
       "    <tr>\n",
       "      <th>30</th>\n",
       "      <td>USD</td>\n",
       "      <td>-115849.02</td>\n",
       "      <td>20200414</td>\n",
       "    </tr>\n",
       "    <tr>\n",
       "      <th>55</th>\n",
       "      <td>USD</td>\n",
       "      <td>-145529.97</td>\n",
       "      <td>20200626</td>\n",
       "    </tr>\n",
       "  </tbody>\n",
       "</table>\n",
       "</div>"
      ],
      "text/plain": [
       "   Invest  TotalPAndL      Date\n",
       "29    USD  -117717.17  20200413\n",
       "30    USD  -115849.02  20200414\n",
       "55    USD  -145529.97  20200626"
      ]
     },
     "execution_count": 35,
     "metadata": {},
     "output_type": "execute_result"
    }
   ],
   "source": [
    "pd.concat(map(getCashPlData, ['20200413', '20200414', '20200626']))"
   ]
  },
  {
   "cell_type": "code",
   "execution_count": null,
   "metadata": {},
   "outputs": [],
   "source": []
  }
 ],
 "metadata": {
  "kernelspec": {
   "display_name": "Python 3",
   "language": "python",
   "name": "python3"
  },
  "language_info": {
   "codemirror_mode": {
    "name": "ipython",
    "version": 3
   },
   "file_extension": ".py",
   "mimetype": "text/x-python",
   "name": "python",
   "nbconvert_exporter": "python",
   "pygments_lexer": "ipython3",
   "version": "3.6.3"
  }
 },
 "nbformat": 4,
 "nbformat_minor": 4
}
