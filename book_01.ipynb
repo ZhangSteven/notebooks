{
 "cells": [
  {
   "cell_type": "markdown",
   "metadata": {},
   "source": [
    "# Learn Python Pandas Dataframe"
   ]
  },
  {
   "cell_type": "code",
   "execution_count": 3,
   "metadata": {},
   "outputs": [],
   "source": [
    "import numpy as np\n",
    "import pandas as pd"
   ]
  },
  {
   "cell_type": "markdown",
   "metadata": {},
   "source": [
    "## Create a Dataframe\n",
    "A DataFrame can be created using different methods:\n",
    "\n",
    "1. A list;\n",
    "2. A list of lists;\n",
    "3. A list of column names and a list of lists (each list for a column);\n",
    "4. A dictionary of lists (column name -> column data);\n",
    "5. Others ways, e.g. a dictionary of series, reading files."
   ]
  },
  {
   "cell_type": "markdown",
   "metadata": {},
   "source": [
    "### DataFrame From a List of Scalars\n",
    "The length of the list is the number of rows, while each row has only one column"
   ]
  },
  {
   "cell_type": "code",
   "execution_count": 6,
   "metadata": {},
   "outputs": [
    {
     "data": {
      "text/html": [
       "<div>\n",
       "<style scoped>\n",
       "    .dataframe tbody tr th:only-of-type {\n",
       "        vertical-align: middle;\n",
       "    }\n",
       "\n",
       "    .dataframe tbody tr th {\n",
       "        vertical-align: top;\n",
       "    }\n",
       "\n",
       "    .dataframe thead th {\n",
       "        text-align: right;\n",
       "    }\n",
       "</style>\n",
       "<table border=\"1\" class=\"dataframe\">\n",
       "  <thead>\n",
       "    <tr style=\"text-align: right;\">\n",
       "      <th></th>\n",
       "      <th>0</th>\n",
       "    </tr>\n",
       "  </thead>\n",
       "  <tbody>\n",
       "    <tr>\n",
       "      <th>0</th>\n",
       "      <td>0</td>\n",
       "    </tr>\n",
       "    <tr>\n",
       "      <th>1</th>\n",
       "      <td>1</td>\n",
       "    </tr>\n",
       "    <tr>\n",
       "      <th>2</th>\n",
       "      <td>2</td>\n",
       "    </tr>\n",
       "    <tr>\n",
       "      <th>3</th>\n",
       "      <td>3</td>\n",
       "    </tr>\n",
       "    <tr>\n",
       "      <th>4</th>\n",
       "      <td>4</td>\n",
       "    </tr>\n",
       "  </tbody>\n",
       "</table>\n",
       "</div>"
      ],
      "text/plain": [
       "   0\n",
       "0  0\n",
       "1  1\n",
       "2  2\n",
       "3  3\n",
       "4  4"
      ]
     },
     "execution_count": 6,
     "metadata": {},
     "output_type": "execute_result"
    }
   ],
   "source": [
    "data = range(5)\n",
    "pd.DataFrame(data) # a DataFrame with default index (0, 1, 2..) and default column name (0)"
   ]
  },
  {
   "cell_type": "markdown",
   "metadata": {},
   "source": [
    "### DataFrame From a List of Lists\n",
    "The length of the list is the number of rows, while each row has multiple columns. The number of columns depends on the length of the longest row. When a row does not have enough columns, a 'NaN' value will be filled in."
   ]
  },
  {
   "cell_type": "code",
   "execution_count": 11,
   "metadata": {},
   "outputs": [
    {
     "data": {
      "text/html": [
       "<div>\n",
       "<style scoped>\n",
       "    .dataframe tbody tr th:only-of-type {\n",
       "        vertical-align: middle;\n",
       "    }\n",
       "\n",
       "    .dataframe tbody tr th {\n",
       "        vertical-align: top;\n",
       "    }\n",
       "\n",
       "    .dataframe thead th {\n",
       "        text-align: right;\n",
       "    }\n",
       "</style>\n",
       "<table border=\"1\" class=\"dataframe\">\n",
       "  <thead>\n",
       "    <tr style=\"text-align: right;\">\n",
       "      <th></th>\n",
       "      <th>0</th>\n",
       "      <th>1</th>\n",
       "      <th>2</th>\n",
       "      <th>3</th>\n",
       "      <th>4</th>\n",
       "    </tr>\n",
       "  </thead>\n",
       "  <tbody>\n",
       "    <tr>\n",
       "      <th>0</th>\n",
       "      <td>0</td>\n",
       "      <td>1</td>\n",
       "      <td>2</td>\n",
       "      <td>NaN</td>\n",
       "      <td>NaN</td>\n",
       "    </tr>\n",
       "    <tr>\n",
       "      <th>1</th>\n",
       "      <td>0</td>\n",
       "      <td>2</td>\n",
       "      <td>4</td>\n",
       "      <td>6.0</td>\n",
       "      <td>8.0</td>\n",
       "    </tr>\n",
       "    <tr>\n",
       "      <th>2</th>\n",
       "      <td>1</td>\n",
       "      <td>2</td>\n",
       "      <td>3</td>\n",
       "      <td>4.0</td>\n",
       "      <td>NaN</td>\n",
       "    </tr>\n",
       "  </tbody>\n",
       "</table>\n",
       "</div>"
      ],
      "text/plain": [
       "   0  1  2    3    4\n",
       "0  0  1  2  NaN  NaN\n",
       "1  0  2  4  6.0  8.0\n",
       "2  1  2  3  4.0  NaN"
      ]
     },
     "execution_count": 11,
     "metadata": {},
     "output_type": "execute_result"
    }
   ],
   "source": [
    "data = [range(3), map(lambda x: x*2, range(5)), map(lambda x: x+1, range(4))]\n",
    "pd.DataFrame(data) # a DataFrame with default index (0, 1, 2..) and default column name (0, 1, 2..)"
   ]
  },
  {
   "cell_type": "markdown",
   "metadata": {},
   "source": [
    "### DataFrame From a List of Column Names and a List of Lists"
   ]
  },
  {
   "cell_type": "code",
   "execution_count": 14,
   "metadata": {
    "scrolled": true
   },
   "outputs": [
    {
     "data": {
      "text/html": [
       "<div>\n",
       "<style scoped>\n",
       "    .dataframe tbody tr th:only-of-type {\n",
       "        vertical-align: middle;\n",
       "    }\n",
       "\n",
       "    .dataframe tbody tr th {\n",
       "        vertical-align: top;\n",
       "    }\n",
       "\n",
       "    .dataframe thead th {\n",
       "        text-align: right;\n",
       "    }\n",
       "</style>\n",
       "<table border=\"1\" class=\"dataframe\">\n",
       "  <thead>\n",
       "    <tr style=\"text-align: right;\">\n",
       "      <th></th>\n",
       "      <th>Name</th>\n",
       "      <th>Score</th>\n",
       "    </tr>\n",
       "  </thead>\n",
       "  <tbody>\n",
       "    <tr>\n",
       "      <th>0</th>\n",
       "      <td>Andy</td>\n",
       "      <td>88</td>\n",
       "    </tr>\n",
       "    <tr>\n",
       "      <th>1</th>\n",
       "      <td>Isaac</td>\n",
       "      <td>99</td>\n",
       "    </tr>\n",
       "    <tr>\n",
       "      <th>2</th>\n",
       "      <td>Chloe</td>\n",
       "      <td>100</td>\n",
       "    </tr>\n",
       "  </tbody>\n",
       "</table>\n",
       "</div>"
      ],
      "text/plain": [
       "    Name  Score\n",
       "0   Andy     88\n",
       "1  Isaac     99\n",
       "2  Chloe    100"
      ]
     },
     "execution_count": 14,
     "metadata": {},
     "output_type": "execute_result"
    }
   ],
   "source": [
    "data = [['Andy', 88], ['Isaac', 99], ['Chloe', 100]]\n",
    "pd.DataFrame(data, columns=['Name', 'Score'])"
   ]
  },
  {
   "cell_type": "markdown",
   "metadata": {},
   "source": [
    "### DataFrame From a Dictionary\n",
    "In the previous examples, the data is always the list of rows. Here we can use a dictionary of columns, with keys as column names and values as column data."
   ]
  },
  {
   "cell_type": "code",
   "execution_count": 18,
   "metadata": {},
   "outputs": [
    {
     "data": {
      "text/html": [
       "<div>\n",
       "<style scoped>\n",
       "    .dataframe tbody tr th:only-of-type {\n",
       "        vertical-align: middle;\n",
       "    }\n",
       "\n",
       "    .dataframe tbody tr th {\n",
       "        vertical-align: top;\n",
       "    }\n",
       "\n",
       "    .dataframe thead th {\n",
       "        text-align: right;\n",
       "    }\n",
       "</style>\n",
       "<table border=\"1\" class=\"dataframe\">\n",
       "  <thead>\n",
       "    <tr style=\"text-align: right;\">\n",
       "      <th></th>\n",
       "      <th>apples</th>\n",
       "      <th>oranges</th>\n",
       "    </tr>\n",
       "  </thead>\n",
       "  <tbody>\n",
       "    <tr>\n",
       "      <th>0</th>\n",
       "      <td>3</td>\n",
       "      <td>0</td>\n",
       "    </tr>\n",
       "    <tr>\n",
       "      <th>1</th>\n",
       "      <td>2</td>\n",
       "      <td>3</td>\n",
       "    </tr>\n",
       "    <tr>\n",
       "      <th>2</th>\n",
       "      <td>0</td>\n",
       "      <td>7</td>\n",
       "    </tr>\n",
       "    <tr>\n",
       "      <th>3</th>\n",
       "      <td>1</td>\n",
       "      <td>2</td>\n",
       "    </tr>\n",
       "  </tbody>\n",
       "</table>\n",
       "</div>"
      ],
      "text/plain": [
       "   apples  oranges\n",
       "0       3        0\n",
       "1       2        3\n",
       "2       0        7\n",
       "3       1        2"
      ]
     },
     "execution_count": 18,
     "metadata": {},
     "output_type": "execute_result"
    }
   ],
   "source": [
    "apples = [3, 2, 0, 1]\n",
    "oranges = [0, 3, 7, 2]\n",
    "data = {'apples': apples, 'oranges': oranges}\n",
    "purchases = pd.DataFrame(data)\n",
    "purchases"
   ]
  },
  {
   "cell_type": "markdown",
   "metadata": {},
   "source": [
    "### Dataframe From a Dictionary with Custome Index"
   ]
  },
  {
   "cell_type": "code",
   "execution_count": 19,
   "metadata": {},
   "outputs": [
    {
     "data": {
      "text/html": [
       "<div>\n",
       "<style scoped>\n",
       "    .dataframe tbody tr th:only-of-type {\n",
       "        vertical-align: middle;\n",
       "    }\n",
       "\n",
       "    .dataframe tbody tr th {\n",
       "        vertical-align: top;\n",
       "    }\n",
       "\n",
       "    .dataframe thead th {\n",
       "        text-align: right;\n",
       "    }\n",
       "</style>\n",
       "<table border=\"1\" class=\"dataframe\">\n",
       "  <thead>\n",
       "    <tr style=\"text-align: right;\">\n",
       "      <th></th>\n",
       "      <th>apples</th>\n",
       "      <th>oranges</th>\n",
       "    </tr>\n",
       "  </thead>\n",
       "  <tbody>\n",
       "    <tr>\n",
       "      <th>June</th>\n",
       "      <td>3</td>\n",
       "      <td>0</td>\n",
       "    </tr>\n",
       "    <tr>\n",
       "      <th>Robert</th>\n",
       "      <td>2</td>\n",
       "      <td>3</td>\n",
       "    </tr>\n",
       "    <tr>\n",
       "      <th>Lily</th>\n",
       "      <td>0</td>\n",
       "      <td>7</td>\n",
       "    </tr>\n",
       "    <tr>\n",
       "      <th>David</th>\n",
       "      <td>1</td>\n",
       "      <td>2</td>\n",
       "    </tr>\n",
       "  </tbody>\n",
       "</table>\n",
       "</div>"
      ],
      "text/plain": [
       "        apples  oranges\n",
       "June         3        0\n",
       "Robert       2        3\n",
       "Lily         0        7\n",
       "David        1        2"
      ]
     },
     "execution_count": 19,
     "metadata": {},
     "output_type": "execute_result"
    }
   ],
   "source": [
    "purchases = pd.DataFrame(data, index = ['June', 'Robert', 'Lily', 'David'])\n",
    "purchases"
   ]
  },
  {
   "cell_type": "markdown",
   "metadata": {},
   "source": [
    "### DataFrame From an Excel File"
   ]
  },
  {
   "cell_type": "code",
   "execution_count": 41,
   "metadata": {},
   "outputs": [],
   "source": [
    "blpData = pd.read_excel('BlpData_20200529.xlsx', index_col='ID') # with the column ID as the index"
   ]
  },
  {
   "cell_type": "markdown",
   "metadata": {},
   "source": [
    "## Access Data\n",
    "After we have data loaded as DataFrame, we want to access it. Here is how."
   ]
  },
  {
   "cell_type": "markdown",
   "metadata": {},
   "source": [
    "### Take a Glance\n",
    "Just showing a few lines of data can be helpful, functions head() and tail() can come in handy."
   ]
  },
  {
   "cell_type": "code",
   "execution_count": 42,
   "metadata": {
    "scrolled": true
   },
   "outputs": [
    {
     "data": {
      "text/html": [
       "<div>\n",
       "<style scoped>\n",
       "    .dataframe tbody tr th:only-of-type {\n",
       "        vertical-align: middle;\n",
       "    }\n",
       "\n",
       "    .dataframe tbody tr th {\n",
       "        vertical-align: top;\n",
       "    }\n",
       "\n",
       "    .dataframe thead th {\n",
       "        text-align: right;\n",
       "    }\n",
       "</style>\n",
       "<table border=\"1\" class=\"dataframe\">\n",
       "  <thead>\n",
       "    <tr style=\"text-align: right;\">\n",
       "      <th></th>\n",
       "      <th>ID_TYPE</th>\n",
       "      <th>MARKET_SECTOR_DES</th>\n",
       "      <th>CNTRY_ISSUE_ISO</th>\n",
       "      <th>CNTRY_OF_RISK</th>\n",
       "      <th>EXCH_MARKET_STATUS</th>\n",
       "      <th>INDUSTRY_SECTOR</th>\n",
       "      <th>CAPITAL_CONTINGENT_SECURITY</th>\n",
       "      <th>SFC_AUTHORIZED_FUND</th>\n",
       "      <th>RTG_SP</th>\n",
       "      <th>RTG_MOODY</th>\n",
       "      <th>RTG_FITCH</th>\n",
       "    </tr>\n",
       "    <tr>\n",
       "      <th>ID</th>\n",
       "      <th></th>\n",
       "      <th></th>\n",
       "      <th></th>\n",
       "      <th></th>\n",
       "      <th></th>\n",
       "      <th></th>\n",
       "      <th></th>\n",
       "      <th></th>\n",
       "      <th></th>\n",
       "      <th></th>\n",
       "      <th></th>\n",
       "    </tr>\n",
       "  </thead>\n",
       "  <tbody>\n",
       "    <tr>\n",
       "      <th>US404280AG49</th>\n",
       "      <td>ISIN</td>\n",
       "      <td>Corp</td>\n",
       "      <td>GB</td>\n",
       "      <td>GB</td>\n",
       "      <td>ACTV</td>\n",
       "      <td>Financial</td>\n",
       "      <td>#N/A Field Not Applicable</td>\n",
       "      <td>#N/A Field Not Applicable</td>\n",
       "      <td>BBB</td>\n",
       "      <td>A3</td>\n",
       "      <td>A-</td>\n",
       "    </tr>\n",
       "    <tr>\n",
       "      <th>XS1992925013</th>\n",
       "      <td>ISIN</td>\n",
       "      <td>Corp</td>\n",
       "      <td>KY</td>\n",
       "      <td>CN</td>\n",
       "      <td>ACTV</td>\n",
       "      <td>Financial</td>\n",
       "      <td>#N/A Field Not Applicable</td>\n",
       "      <td>#N/A Field Not Applicable</td>\n",
       "      <td>A</td>\n",
       "      <td>NaN</td>\n",
       "      <td>A</td>\n",
       "    </tr>\n",
       "    <tr>\n",
       "      <th>DE000LB1P2W1</th>\n",
       "      <td>ISIN</td>\n",
       "      <td>Corp</td>\n",
       "      <td>DE</td>\n",
       "      <td>DE</td>\n",
       "      <td>ACTV</td>\n",
       "      <td>Financial</td>\n",
       "      <td>#N/A Field Not Applicable</td>\n",
       "      <td>#N/A Field Not Applicable</td>\n",
       "      <td>NaN</td>\n",
       "      <td>Baa2</td>\n",
       "      <td>BB+</td>\n",
       "    </tr>\n",
       "    <tr>\n",
       "      <th>6808 HK Equity</th>\n",
       "      <td>TICKER</td>\n",
       "      <td>Equity</td>\n",
       "      <td>HK</td>\n",
       "      <td>CN</td>\n",
       "      <td>ACTV</td>\n",
       "      <td>Consumer, Cyclical</td>\n",
       "      <td>N</td>\n",
       "      <td>#N/A Field Not Applicable</td>\n",
       "      <td>NaN</td>\n",
       "      <td>NaN</td>\n",
       "      <td>NaN</td>\n",
       "    </tr>\n",
       "    <tr>\n",
       "      <th>XS2125922349</th>\n",
       "      <td>ISIN</td>\n",
       "      <td>Corp</td>\n",
       "      <td>CN</td>\n",
       "      <td>CN</td>\n",
       "      <td>ACTV</td>\n",
       "      <td>Financial</td>\n",
       "      <td>Y</td>\n",
       "      <td>#N/A Field Not Applicable</td>\n",
       "      <td>BB+</td>\n",
       "      <td>Ba1</td>\n",
       "      <td>BB+</td>\n",
       "    </tr>\n",
       "  </tbody>\n",
       "</table>\n",
       "</div>"
      ],
      "text/plain": [
       "               ID_TYPE MARKET_SECTOR_DES CNTRY_ISSUE_ISO CNTRY_OF_RISK  \\\n",
       "ID                                                                       \n",
       "US404280AG49      ISIN              Corp              GB            GB   \n",
       "XS1992925013      ISIN              Corp              KY            CN   \n",
       "DE000LB1P2W1      ISIN              Corp              DE            DE   \n",
       "6808 HK Equity  TICKER            Equity              HK            CN   \n",
       "XS2125922349      ISIN              Corp              CN            CN   \n",
       "\n",
       "               EXCH_MARKET_STATUS     INDUSTRY_SECTOR  \\\n",
       "ID                                                      \n",
       "US404280AG49                 ACTV           Financial   \n",
       "XS1992925013                 ACTV           Financial   \n",
       "DE000LB1P2W1                 ACTV           Financial   \n",
       "6808 HK Equity               ACTV  Consumer, Cyclical   \n",
       "XS2125922349                 ACTV           Financial   \n",
       "\n",
       "               CAPITAL_CONTINGENT_SECURITY        SFC_AUTHORIZED_FUND RTG_SP  \\\n",
       "ID                                                                             \n",
       "US404280AG49     #N/A Field Not Applicable  #N/A Field Not Applicable    BBB   \n",
       "XS1992925013     #N/A Field Not Applicable  #N/A Field Not Applicable      A   \n",
       "DE000LB1P2W1     #N/A Field Not Applicable  #N/A Field Not Applicable    NaN   \n",
       "6808 HK Equity                           N  #N/A Field Not Applicable    NaN   \n",
       "XS2125922349                             Y  #N/A Field Not Applicable    BB+   \n",
       "\n",
       "               RTG_MOODY RTG_FITCH  \n",
       "ID                                  \n",
       "US404280AG49          A3        A-  \n",
       "XS1992925013         NaN         A  \n",
       "DE000LB1P2W1        Baa2       BB+  \n",
       "6808 HK Equity       NaN       NaN  \n",
       "XS2125922349         Ba1       BB+  "
      ]
     },
     "execution_count": 42,
     "metadata": {},
     "output_type": "execute_result"
    }
   ],
   "source": [
    "blpData.head() # show the first few rows (default is 5 rows), call head(n) to show the first n rows"
   ]
  },
  {
   "cell_type": "code",
   "execution_count": 41,
   "metadata": {},
   "outputs": [
    {
     "data": {
      "text/html": [
       "<div>\n",
       "<style scoped>\n",
       "    .dataframe tbody tr th:only-of-type {\n",
       "        vertical-align: middle;\n",
       "    }\n",
       "\n",
       "    .dataframe tbody tr th {\n",
       "        vertical-align: top;\n",
       "    }\n",
       "\n",
       "    .dataframe thead th {\n",
       "        text-align: right;\n",
       "    }\n",
       "</style>\n",
       "<table border=\"1\" class=\"dataframe\">\n",
       "  <thead>\n",
       "    <tr style=\"text-align: right;\">\n",
       "      <th></th>\n",
       "      <th>ID_TYPE</th>\n",
       "      <th>MARKET_SECTOR_DES</th>\n",
       "      <th>CNTRY_ISSUE_ISO</th>\n",
       "      <th>CNTRY_OF_RISK</th>\n",
       "      <th>EXCH_MARKET_STATUS</th>\n",
       "      <th>INDUSTRY_SECTOR</th>\n",
       "      <th>CAPITAL_CONTINGENT_SECURITY</th>\n",
       "      <th>SFC_AUTHORIZED_FUND</th>\n",
       "      <th>RTG_SP</th>\n",
       "      <th>RTG_MOODY</th>\n",
       "      <th>RTG_FITCH</th>\n",
       "    </tr>\n",
       "    <tr>\n",
       "      <th>ID</th>\n",
       "      <th></th>\n",
       "      <th></th>\n",
       "      <th></th>\n",
       "      <th></th>\n",
       "      <th></th>\n",
       "      <th></th>\n",
       "      <th></th>\n",
       "      <th></th>\n",
       "      <th></th>\n",
       "      <th></th>\n",
       "      <th></th>\n",
       "    </tr>\n",
       "  </thead>\n",
       "  <tbody>\n",
       "    <tr>\n",
       "      <th>XS1788514039</th>\n",
       "      <td>ISIN</td>\n",
       "      <td>Corp</td>\n",
       "      <td>HK</td>\n",
       "      <td>CN</td>\n",
       "      <td>ACTV</td>\n",
       "      <td>Basic Materials</td>\n",
       "      <td>#N/A Field Not Applicable</td>\n",
       "      <td>#N/A Field Not Applicable</td>\n",
       "      <td>BBB</td>\n",
       "      <td>NaN</td>\n",
       "      <td>A-</td>\n",
       "    </tr>\n",
       "    <tr>\n",
       "      <th>US88032XAT19</th>\n",
       "      <td>ISIN</td>\n",
       "      <td>Corp</td>\n",
       "      <td>KY</td>\n",
       "      <td>CN</td>\n",
       "      <td>ACTV</td>\n",
       "      <td>Communications</td>\n",
       "      <td>#N/A Field Not Applicable</td>\n",
       "      <td>#N/A Field Not Applicable</td>\n",
       "      <td>A+</td>\n",
       "      <td>A1</td>\n",
       "      <td>A+</td>\n",
       "    </tr>\n",
       "    <tr>\n",
       "      <th>XS1706605281</th>\n",
       "      <td>ISIN</td>\n",
       "      <td>Govt</td>\n",
       "      <td>CN</td>\n",
       "      <td>CN</td>\n",
       "      <td>ACTV</td>\n",
       "      <td>Government</td>\n",
       "      <td>#N/A Field Not Applicable</td>\n",
       "      <td>#N/A Field Not Applicable</td>\n",
       "      <td>NaN</td>\n",
       "      <td>NaN</td>\n",
       "      <td>NaN</td>\n",
       "    </tr>\n",
       "    <tr>\n",
       "      <th>XS1793463461</th>\n",
       "      <td>ISIN</td>\n",
       "      <td>Corp</td>\n",
       "      <td>VG</td>\n",
       "      <td>CN</td>\n",
       "      <td>ACTV</td>\n",
       "      <td>Financial</td>\n",
       "      <td>#N/A Field Not Applicable</td>\n",
       "      <td>#N/A Field Not Applicable</td>\n",
       "      <td>NaN</td>\n",
       "      <td>NaN</td>\n",
       "      <td>NaN</td>\n",
       "    </tr>\n",
       "    <tr>\n",
       "      <th>XS0520042416</th>\n",
       "      <td>ISIN</td>\n",
       "      <td>Corp</td>\n",
       "      <td>HK</td>\n",
       "      <td>HK</td>\n",
       "      <td>ACTV</td>\n",
       "      <td>Financial</td>\n",
       "      <td>#N/A Field Not Applicable</td>\n",
       "      <td>#N/A Field Not Applicable</td>\n",
       "      <td>A-</td>\n",
       "      <td>Baa1</td>\n",
       "      <td>NaN</td>\n",
       "    </tr>\n",
       "  </tbody>\n",
       "</table>\n",
       "</div>"
      ],
      "text/plain": [
       "             ID_TYPE MARKET_SECTOR_DES CNTRY_ISSUE_ISO CNTRY_OF_RISK  \\\n",
       "ID                                                                     \n",
       "XS1788514039    ISIN              Corp              HK            CN   \n",
       "US88032XAT19    ISIN              Corp              KY            CN   \n",
       "XS1706605281    ISIN              Govt              CN            CN   \n",
       "XS1793463461    ISIN              Corp              VG            CN   \n",
       "XS0520042416    ISIN              Corp              HK            HK   \n",
       "\n",
       "             EXCH_MARKET_STATUS  INDUSTRY_SECTOR CAPITAL_CONTINGENT_SECURITY  \\\n",
       "ID                                                                             \n",
       "XS1788514039               ACTV  Basic Materials   #N/A Field Not Applicable   \n",
       "US88032XAT19               ACTV   Communications   #N/A Field Not Applicable   \n",
       "XS1706605281               ACTV       Government   #N/A Field Not Applicable   \n",
       "XS1793463461               ACTV        Financial   #N/A Field Not Applicable   \n",
       "XS0520042416               ACTV        Financial   #N/A Field Not Applicable   \n",
       "\n",
       "                    SFC_AUTHORIZED_FUND RTG_SP RTG_MOODY RTG_FITCH  \n",
       "ID                                                                  \n",
       "XS1788514039  #N/A Field Not Applicable    BBB       NaN        A-  \n",
       "US88032XAT19  #N/A Field Not Applicable     A+        A1        A+  \n",
       "XS1706605281  #N/A Field Not Applicable    NaN       NaN       NaN  \n",
       "XS1793463461  #N/A Field Not Applicable    NaN       NaN       NaN  \n",
       "XS0520042416  #N/A Field Not Applicable     A-      Baa1       NaN  "
      ]
     },
     "execution_count": 41,
     "metadata": {},
     "output_type": "execute_result"
    }
   ],
   "source": [
    "blpData.tail() # show the last 5 rows, again tail(n) for the last n rows"
   ]
  },
  {
   "cell_type": "markdown",
   "metadata": {},
   "source": [
    "### Show Data Types And Size"
   ]
  },
  {
   "cell_type": "code",
   "execution_count": 43,
   "metadata": {},
   "outputs": [
    {
     "name": "stdout",
     "output_type": "stream",
     "text": [
      "<class 'pandas.core.frame.DataFrame'>\n",
      "Index: 576 entries, US404280AG49 to XS0520042416\n",
      "Data columns (total 11 columns):\n",
      " #   Column                       Non-Null Count  Dtype \n",
      "---  ------                       --------------  ----- \n",
      " 0   ID_TYPE                      576 non-null    object\n",
      " 1   MARKET_SECTOR_DES            576 non-null    object\n",
      " 2   CNTRY_ISSUE_ISO              576 non-null    object\n",
      " 3   CNTRY_OF_RISK                570 non-null    object\n",
      " 4   EXCH_MARKET_STATUS           576 non-null    object\n",
      " 5   INDUSTRY_SECTOR              576 non-null    object\n",
      " 6   CAPITAL_CONTINGENT_SECURITY  576 non-null    object\n",
      " 7   SFC_AUTHORIZED_FUND          576 non-null    object\n",
      " 8   RTG_SP                       263 non-null    object\n",
      " 9   RTG_MOODY                    336 non-null    object\n",
      " 10  RTG_FITCH                    299 non-null    object\n",
      "dtypes: object(11)\n",
      "memory usage: 27.0+ KB\n"
     ]
    }
   ],
   "source": [
    "blpData.info() # show the column types, memoery usage gives a hint on how large the dataset is"
   ]
  },
  {
   "cell_type": "code",
   "execution_count": 44,
   "metadata": {},
   "outputs": [
    {
     "data": {
      "text/plain": [
       "(576, 11)"
      ]
     },
     "execution_count": 44,
     "metadata": {},
     "output_type": "execute_result"
    }
   ],
   "source": [
    "blpData.shape # how many rows, how many columns"
   ]
  },
  {
   "cell_type": "markdown",
   "metadata": {},
   "source": [
    "## Handling Duplicates\n",
    "If row A and B have exactly the same column values except their index, they are considerred duplicate rows. Here is how to handle duplicates when necessary."
   ]
  },
  {
   "cell_type": "markdown",
   "metadata": {},
   "source": [
    "### Remove Duplicate Rows"
   ]
  },
  {
   "cell_type": "code",
   "execution_count": 45,
   "metadata": {},
   "outputs": [
    {
     "data": {
      "text/plain": [
       "(302, 11)"
      ]
     },
     "execution_count": 45,
     "metadata": {},
     "output_type": "execute_result"
    }
   ],
   "source": [
    "bp2 = blpData.drop_duplicates()\n",
    "bp2.shape # a lot of stock positions have exactly the same country, industry sector, etc. except their stock code (index)"
   ]
  },
  {
   "cell_type": "code",
   "execution_count": 71,
   "metadata": {},
   "outputs": [
    {
     "data": {
      "text/plain": [
       "(576, 11)"
      ]
     },
     "execution_count": 71,
     "metadata": {},
     "output_type": "execute_result"
    }
   ],
   "source": [
    "blpData.shape # not affected"
   ]
  },
  {
   "cell_type": "markdown",
   "metadata": {},
   "source": [
    "### Drop All Duplicate Rows"
   ]
  },
  {
   "cell_type": "code",
   "execution_count": 46,
   "metadata": {},
   "outputs": [
    {
     "data": {
      "text/plain": [
       "(189, 11)"
      ]
     },
     "execution_count": 46,
     "metadata": {},
     "output_type": "execute_result"
    }
   ],
   "source": [
    "bp2 = blpData.drop_duplicates(keep=False)\n",
    "bp2.shape # all duplicates are removed"
   ]
  },
  {
   "cell_type": "markdown",
   "metadata": {},
   "source": [
    "There are other ways to call the drop_duplicates() function:\n",
    "    \n",
    "1. keep=first; only keep the first record when duplicates occur\n",
    "\n",
    "2. keep=last; only keep the last record when duplicates occur\n",
    "\n",
    "3. inplace=True; change the original data frame instead of creating a new one"
   ]
  },
  {
   "cell_type": "markdown",
   "metadata": {},
   "source": [
    "## Handling Column Names"
   ]
  },
  {
   "cell_type": "code",
   "execution_count": 47,
   "metadata": {},
   "outputs": [
    {
     "data": {
      "text/plain": [
       "Index(['ID_TYPE', 'MARKET_SECTOR_DES', 'CNTRY_ISSUE_ISO', 'CNTRY_OF_RISK',\n",
       "       'EXCH_MARKET_STATUS', 'INDUSTRY_SECTOR', 'CAPITAL_CONTINGENT_SECURITY',\n",
       "       'SFC_AUTHORIZED_FUND', 'RTG_SP', 'RTG_MOODY', 'RTG_FITCH'],\n",
       "      dtype='object')"
      ]
     },
     "execution_count": 47,
     "metadata": {},
     "output_type": "execute_result"
    }
   ],
   "source": [
    "blpData.columns # show columns"
   ]
  },
  {
   "cell_type": "markdown",
   "metadata": {},
   "source": [
    "### Change Column Name with Rename() Function"
   ]
  },
  {
   "cell_type": "code",
   "execution_count": 48,
   "metadata": {},
   "outputs": [
    {
     "data": {
      "text/plain": [
       "Index(['ID_TYPE', 'MARKET_SECTOR_DES', 'CNTRY_ISSUE_ISO', 'CNTRY_OF_RISK',\n",
       "       'EXCH_MARKET_STATUS', 'INDUSTRY_SECTOR', 'CAPITAL_CONTINGENT_SECURITY',\n",
       "       'SFC_AUTHORIZED_FUND', 's&p rating', 'moodys rating', 'fitch rating'],\n",
       "      dtype='object')"
      ]
     },
     "execution_count": 48,
     "metadata": {},
     "output_type": "execute_result"
    }
   ],
   "source": [
    "blpData.rename(columns={'RTG_SP': 's&p rating', 'RTG_MOODY': 'moodys rating', 'RTG_FITCH': 'fitch rating'}, inplace=True)\n",
    "blpData.columns"
   ]
  },
  {
   "cell_type": "markdown",
   "metadata": {},
   "source": [
    "### Assign Column Names Directly"
   ]
  },
  {
   "cell_type": "code",
   "execution_count": 49,
   "metadata": {},
   "outputs": [
    {
     "data": {
      "text/plain": [
       "Index(['id_type', 'market_sector_des', 'cntry_issue_iso', 'cntry_of_risk',\n",
       "       'exch_market_status', 'industry_sector', 'capital_contingent_security',\n",
       "       'sfc_authorized_fund', 's&p rating', 'moodys rating', 'fitch rating'],\n",
       "      dtype='object')"
      ]
     },
     "execution_count": 49,
     "metadata": {},
     "output_type": "execute_result"
    }
   ],
   "source": [
    "blpData.columns = [col.lower() for col in blpData.columns] # assign a list of equal length to the columns\n",
    "blpData.columns"
   ]
  },
  {
   "cell_type": "markdown",
   "metadata": {},
   "source": [
    "## Handling Missing Values\n",
    "Missing values in the data is represented as NaN. For example, an empty cell in the excel file will be mapped to a NaN value in the data frame."
   ]
  },
  {
   "cell_type": "markdown",
   "metadata": {},
   "source": [
    "### Check Overall Missing Values"
   ]
  },
  {
   "cell_type": "code",
   "execution_count": 50,
   "metadata": {},
   "outputs": [
    {
     "data": {
      "text/html": [
       "<div>\n",
       "<style scoped>\n",
       "    .dataframe tbody tr th:only-of-type {\n",
       "        vertical-align: middle;\n",
       "    }\n",
       "\n",
       "    .dataframe tbody tr th {\n",
       "        vertical-align: top;\n",
       "    }\n",
       "\n",
       "    .dataframe thead th {\n",
       "        text-align: right;\n",
       "    }\n",
       "</style>\n",
       "<table border=\"1\" class=\"dataframe\">\n",
       "  <thead>\n",
       "    <tr style=\"text-align: right;\">\n",
       "      <th></th>\n",
       "      <th>id_type</th>\n",
       "      <th>market_sector_des</th>\n",
       "      <th>cntry_issue_iso</th>\n",
       "      <th>cntry_of_risk</th>\n",
       "      <th>exch_market_status</th>\n",
       "      <th>industry_sector</th>\n",
       "      <th>capital_contingent_security</th>\n",
       "      <th>sfc_authorized_fund</th>\n",
       "      <th>s&amp;p rating</th>\n",
       "      <th>moodys rating</th>\n",
       "      <th>fitch rating</th>\n",
       "    </tr>\n",
       "    <tr>\n",
       "      <th>ID</th>\n",
       "      <th></th>\n",
       "      <th></th>\n",
       "      <th></th>\n",
       "      <th></th>\n",
       "      <th></th>\n",
       "      <th></th>\n",
       "      <th></th>\n",
       "      <th></th>\n",
       "      <th></th>\n",
       "      <th></th>\n",
       "      <th></th>\n",
       "    </tr>\n",
       "  </thead>\n",
       "  <tbody>\n",
       "    <tr>\n",
       "      <th>US404280AG49</th>\n",
       "      <td>False</td>\n",
       "      <td>False</td>\n",
       "      <td>False</td>\n",
       "      <td>False</td>\n",
       "      <td>False</td>\n",
       "      <td>False</td>\n",
       "      <td>False</td>\n",
       "      <td>False</td>\n",
       "      <td>False</td>\n",
       "      <td>False</td>\n",
       "      <td>False</td>\n",
       "    </tr>\n",
       "    <tr>\n",
       "      <th>XS1992925013</th>\n",
       "      <td>False</td>\n",
       "      <td>False</td>\n",
       "      <td>False</td>\n",
       "      <td>False</td>\n",
       "      <td>False</td>\n",
       "      <td>False</td>\n",
       "      <td>False</td>\n",
       "      <td>False</td>\n",
       "      <td>False</td>\n",
       "      <td>True</td>\n",
       "      <td>False</td>\n",
       "    </tr>\n",
       "    <tr>\n",
       "      <th>DE000LB1P2W1</th>\n",
       "      <td>False</td>\n",
       "      <td>False</td>\n",
       "      <td>False</td>\n",
       "      <td>False</td>\n",
       "      <td>False</td>\n",
       "      <td>False</td>\n",
       "      <td>False</td>\n",
       "      <td>False</td>\n",
       "      <td>True</td>\n",
       "      <td>False</td>\n",
       "      <td>False</td>\n",
       "    </tr>\n",
       "    <tr>\n",
       "      <th>6808 HK Equity</th>\n",
       "      <td>False</td>\n",
       "      <td>False</td>\n",
       "      <td>False</td>\n",
       "      <td>False</td>\n",
       "      <td>False</td>\n",
       "      <td>False</td>\n",
       "      <td>False</td>\n",
       "      <td>False</td>\n",
       "      <td>True</td>\n",
       "      <td>True</td>\n",
       "      <td>True</td>\n",
       "    </tr>\n",
       "    <tr>\n",
       "      <th>XS2125922349</th>\n",
       "      <td>False</td>\n",
       "      <td>False</td>\n",
       "      <td>False</td>\n",
       "      <td>False</td>\n",
       "      <td>False</td>\n",
       "      <td>False</td>\n",
       "      <td>False</td>\n",
       "      <td>False</td>\n",
       "      <td>False</td>\n",
       "      <td>False</td>\n",
       "      <td>False</td>\n",
       "    </tr>\n",
       "    <tr>\n",
       "      <th>...</th>\n",
       "      <td>...</td>\n",
       "      <td>...</td>\n",
       "      <td>...</td>\n",
       "      <td>...</td>\n",
       "      <td>...</td>\n",
       "      <td>...</td>\n",
       "      <td>...</td>\n",
       "      <td>...</td>\n",
       "      <td>...</td>\n",
       "      <td>...</td>\n",
       "      <td>...</td>\n",
       "    </tr>\n",
       "    <tr>\n",
       "      <th>XS1788514039</th>\n",
       "      <td>False</td>\n",
       "      <td>False</td>\n",
       "      <td>False</td>\n",
       "      <td>False</td>\n",
       "      <td>False</td>\n",
       "      <td>False</td>\n",
       "      <td>False</td>\n",
       "      <td>False</td>\n",
       "      <td>False</td>\n",
       "      <td>True</td>\n",
       "      <td>False</td>\n",
       "    </tr>\n",
       "    <tr>\n",
       "      <th>US88032XAT19</th>\n",
       "      <td>False</td>\n",
       "      <td>False</td>\n",
       "      <td>False</td>\n",
       "      <td>False</td>\n",
       "      <td>False</td>\n",
       "      <td>False</td>\n",
       "      <td>False</td>\n",
       "      <td>False</td>\n",
       "      <td>False</td>\n",
       "      <td>False</td>\n",
       "      <td>False</td>\n",
       "    </tr>\n",
       "    <tr>\n",
       "      <th>XS1706605281</th>\n",
       "      <td>False</td>\n",
       "      <td>False</td>\n",
       "      <td>False</td>\n",
       "      <td>False</td>\n",
       "      <td>False</td>\n",
       "      <td>False</td>\n",
       "      <td>False</td>\n",
       "      <td>False</td>\n",
       "      <td>True</td>\n",
       "      <td>True</td>\n",
       "      <td>True</td>\n",
       "    </tr>\n",
       "    <tr>\n",
       "      <th>XS1793463461</th>\n",
       "      <td>False</td>\n",
       "      <td>False</td>\n",
       "      <td>False</td>\n",
       "      <td>False</td>\n",
       "      <td>False</td>\n",
       "      <td>False</td>\n",
       "      <td>False</td>\n",
       "      <td>False</td>\n",
       "      <td>True</td>\n",
       "      <td>True</td>\n",
       "      <td>True</td>\n",
       "    </tr>\n",
       "    <tr>\n",
       "      <th>XS0520042416</th>\n",
       "      <td>False</td>\n",
       "      <td>False</td>\n",
       "      <td>False</td>\n",
       "      <td>False</td>\n",
       "      <td>False</td>\n",
       "      <td>False</td>\n",
       "      <td>False</td>\n",
       "      <td>False</td>\n",
       "      <td>False</td>\n",
       "      <td>False</td>\n",
       "      <td>True</td>\n",
       "    </tr>\n",
       "  </tbody>\n",
       "</table>\n",
       "<p>576 rows × 11 columns</p>\n",
       "</div>"
      ],
      "text/plain": [
       "                id_type  market_sector_des  cntry_issue_iso  cntry_of_risk  \\\n",
       "ID                                                                           \n",
       "US404280AG49      False              False            False          False   \n",
       "XS1992925013      False              False            False          False   \n",
       "DE000LB1P2W1      False              False            False          False   \n",
       "6808 HK Equity    False              False            False          False   \n",
       "XS2125922349      False              False            False          False   \n",
       "...                 ...                ...              ...            ...   \n",
       "XS1788514039      False              False            False          False   \n",
       "US88032XAT19      False              False            False          False   \n",
       "XS1706605281      False              False            False          False   \n",
       "XS1793463461      False              False            False          False   \n",
       "XS0520042416      False              False            False          False   \n",
       "\n",
       "                exch_market_status  industry_sector  \\\n",
       "ID                                                    \n",
       "US404280AG49                 False            False   \n",
       "XS1992925013                 False            False   \n",
       "DE000LB1P2W1                 False            False   \n",
       "6808 HK Equity               False            False   \n",
       "XS2125922349                 False            False   \n",
       "...                            ...              ...   \n",
       "XS1788514039                 False            False   \n",
       "US88032XAT19                 False            False   \n",
       "XS1706605281                 False            False   \n",
       "XS1793463461                 False            False   \n",
       "XS0520042416                 False            False   \n",
       "\n",
       "                capital_contingent_security  sfc_authorized_fund  s&p rating  \\\n",
       "ID                                                                             \n",
       "US404280AG49                          False                False       False   \n",
       "XS1992925013                          False                False       False   \n",
       "DE000LB1P2W1                          False                False        True   \n",
       "6808 HK Equity                        False                False        True   \n",
       "XS2125922349                          False                False       False   \n",
       "...                                     ...                  ...         ...   \n",
       "XS1788514039                          False                False       False   \n",
       "US88032XAT19                          False                False       False   \n",
       "XS1706605281                          False                False        True   \n",
       "XS1793463461                          False                False        True   \n",
       "XS0520042416                          False                False       False   \n",
       "\n",
       "                moodys rating  fitch rating  \n",
       "ID                                           \n",
       "US404280AG49            False         False  \n",
       "XS1992925013             True         False  \n",
       "DE000LB1P2W1            False         False  \n",
       "6808 HK Equity           True          True  \n",
       "XS2125922349            False         False  \n",
       "...                       ...           ...  \n",
       "XS1788514039             True         False  \n",
       "US88032XAT19            False         False  \n",
       "XS1706605281             True          True  \n",
       "XS1793463461             True          True  \n",
       "XS0520042416            False          True  \n",
       "\n",
       "[576 rows x 11 columns]"
      ]
     },
     "execution_count": 50,
     "metadata": {},
     "output_type": "execute_result"
    }
   ],
   "source": [
    "blpData.isnull() # produce a data frame whose value is True if the value is NaN, False otherwise."
   ]
  },
  {
   "cell_type": "code",
   "execution_count": 51,
   "metadata": {},
   "outputs": [
    {
     "data": {
      "text/plain": [
       "id_type                          0\n",
       "market_sector_des                0\n",
       "cntry_issue_iso                  0\n",
       "cntry_of_risk                    6\n",
       "exch_market_status               0\n",
       "industry_sector                  0\n",
       "capital_contingent_security      0\n",
       "sfc_authorized_fund              0\n",
       "s&p rating                     313\n",
       "moodys rating                  240\n",
       "fitch rating                   277\n",
       "dtype: int64"
      ]
     },
     "execution_count": 51,
     "metadata": {},
     "output_type": "execute_result"
    }
   ],
   "source": [
    "blpData.isnull().sum() # sum up each column in the new dataframe"
   ]
  },
  {
   "cell_type": "code",
   "execution_count": 52,
   "metadata": {},
   "outputs": [
    {
     "data": {
      "text/plain": [
       "(163, 11)"
      ]
     },
     "execution_count": 52,
     "metadata": {},
     "output_type": "execute_result"
    }
   ],
   "source": [
    "bp3 = blpData.dropna() # remove all rows with at least on NaN value\n",
    "bp3.shape"
   ]
  },
  {
   "cell_type": "code",
   "execution_count": 53,
   "metadata": {},
   "outputs": [
    {
     "data": {
      "text/plain": [
       "(576, 7)"
      ]
     },
     "execution_count": 53,
     "metadata": {},
     "output_type": "execute_result"
    }
   ],
   "source": [
    "bp4 = blpData.dropna(axis=1) # drop all columns with at least one NaN value\n",
    "bp4.shape"
   ]
  },
  {
   "cell_type": "code",
   "execution_count": 54,
   "metadata": {},
   "outputs": [
    {
     "name": "stdout",
     "output_type": "stream",
     "text": [
      "<class 'pandas.core.frame.DataFrame'>\n",
      "Index: 576 entries, US404280AG49 to XS0520042416\n",
      "Data columns (total 7 columns):\n",
      " #   Column                       Non-Null Count  Dtype \n",
      "---  ------                       --------------  ----- \n",
      " 0   id_type                      576 non-null    object\n",
      " 1   market_sector_des            576 non-null    object\n",
      " 2   cntry_issue_iso              576 non-null    object\n",
      " 3   exch_market_status           576 non-null    object\n",
      " 4   industry_sector              576 non-null    object\n",
      " 5   capital_contingent_security  576 non-null    object\n",
      " 6   sfc_authorized_fund          576 non-null    object\n",
      "dtypes: object(7)\n",
      "memory usage: 30.0+ KB\n"
     ]
    }
   ],
   "source": [
    "bp4.info() # country_of_risk, s&p rating, moodys rating, fitch raing, these 4 columns are gone"
   ]
  },
  {
   "cell_type": "markdown",
   "metadata": {},
   "source": [
    "### Replace Missing Values In a Column"
   ]
  },
  {
   "cell_type": "code",
   "execution_count": 55,
   "metadata": {},
   "outputs": [
    {
     "data": {
      "text/plain": [
       "ID\n",
       "US404280AG49      BBB\n",
       "XS1992925013        A\n",
       "DE000LB1P2W1      NaN\n",
       "6808 HK Equity    NaN\n",
       "XS2125922349      BB+\n",
       "Name: s&p rating, dtype: object"
      ]
     },
     "execution_count": 55,
     "metadata": {},
     "output_type": "execute_result"
    }
   ],
   "source": [
    "sp_ratings = blpData['s&p rating'] # take out the column\n",
    "sp_ratings.head()"
   ]
  },
  {
   "cell_type": "code",
   "execution_count": 56,
   "metadata": {},
   "outputs": [
    {
     "data": {
      "text/plain": [
       "id_type                          0\n",
       "market_sector_des                0\n",
       "cntry_issue_iso                  0\n",
       "cntry_of_risk                    6\n",
       "exch_market_status               0\n",
       "industry_sector                  0\n",
       "capital_contingent_security      0\n",
       "sfc_authorized_fund              0\n",
       "s&p rating                       0\n",
       "moodys rating                  240\n",
       "fitch rating                   277\n",
       "dtype: int64"
      ]
     },
     "execution_count": 56,
     "metadata": {},
     "output_type": "execute_result"
    }
   ],
   "source": [
    "sp_ratings.fillna('NR', inplace=True) # replace NaN with 'NR' and affect the original data\n",
    "blpData.isnull().sum() # count NaN again, s&p ratings has no missing values now."
   ]
  },
  {
   "cell_type": "code",
   "execution_count": 57,
   "metadata": {},
   "outputs": [
    {
     "data": {
      "text/plain": [
       "count     576\n",
       "unique     20\n",
       "top        NR\n",
       "freq      317\n",
       "Name: s&p rating, dtype: object"
      ]
     },
     "execution_count": 57,
     "metadata": {},
     "output_type": "execute_result"
    }
   ],
   "source": [
    "sp_ratings.describe() # get statistics of a series (column)"
   ]
  },
  {
   "cell_type": "code",
   "execution_count": 58,
   "metadata": {},
   "outputs": [
    {
     "data": {
      "text/plain": [
       "NR        317\n",
       "BBB+       68\n",
       "A-         51\n",
       "BBB        32\n",
       "A+         22\n",
       "B+         16\n",
       "B          13\n",
       "BBB-       11\n",
       "A          11\n",
       "BB-        10\n",
       "B-          6\n",
       "BB          4\n",
       "BB+         3\n",
       "AA          3\n",
       "AA- *-      2\n",
       "AA-         2\n",
       "B- *-       2\n",
       "BB+ *-      1\n",
       "BB- *-      1\n",
       "AAA         1\n",
       "Name: s&p rating, dtype: int64"
      ]
     },
     "execution_count": 58,
     "metadata": {},
     "output_type": "execute_result"
    }
   ],
   "source": [
    "sp_ratings.value_counts() # get the frequency of all values in a column"
   ]
  },
  {
   "cell_type": "markdown",
   "metadata": {},
   "source": [
    "## DataFrame Slicing, Selecting and Extracting\n",
    "We can extract a column from a DataFrame object, how about extract a \"sub frame\" from a DataFrame, i.e., a few columns? Here is how."
   ]
  },
  {
   "cell_type": "markdown",
   "metadata": {},
   "source": [
    "### Create a Sub DataFrame"
   ]
  },
  {
   "cell_type": "code",
   "execution_count": 59,
   "metadata": {},
   "outputs": [
    {
     "data": {
      "text/html": [
       "<div>\n",
       "<style scoped>\n",
       "    .dataframe tbody tr th:only-of-type {\n",
       "        vertical-align: middle;\n",
       "    }\n",
       "\n",
       "    .dataframe tbody tr th {\n",
       "        vertical-align: top;\n",
       "    }\n",
       "\n",
       "    .dataframe thead th {\n",
       "        text-align: right;\n",
       "    }\n",
       "</style>\n",
       "<table border=\"1\" class=\"dataframe\">\n",
       "  <thead>\n",
       "    <tr style=\"text-align: right;\">\n",
       "      <th></th>\n",
       "      <th>industry_sector</th>\n",
       "      <th>moodys rating</th>\n",
       "    </tr>\n",
       "    <tr>\n",
       "      <th>ID</th>\n",
       "      <th></th>\n",
       "      <th></th>\n",
       "    </tr>\n",
       "  </thead>\n",
       "  <tbody>\n",
       "    <tr>\n",
       "      <th>US404280AG49</th>\n",
       "      <td>Financial</td>\n",
       "      <td>A3</td>\n",
       "    </tr>\n",
       "    <tr>\n",
       "      <th>XS1992925013</th>\n",
       "      <td>Financial</td>\n",
       "      <td>NaN</td>\n",
       "    </tr>\n",
       "    <tr>\n",
       "      <th>DE000LB1P2W1</th>\n",
       "      <td>Financial</td>\n",
       "      <td>Baa2</td>\n",
       "    </tr>\n",
       "    <tr>\n",
       "      <th>6808 HK Equity</th>\n",
       "      <td>Consumer, Cyclical</td>\n",
       "      <td>NaN</td>\n",
       "    </tr>\n",
       "    <tr>\n",
       "      <th>XS2125922349</th>\n",
       "      <td>Financial</td>\n",
       "      <td>Ba1</td>\n",
       "    </tr>\n",
       "  </tbody>\n",
       "</table>\n",
       "</div>"
      ],
      "text/plain": [
       "                   industry_sector moodys rating\n",
       "ID                                              \n",
       "US404280AG49             Financial            A3\n",
       "XS1992925013             Financial           NaN\n",
       "DE000LB1P2W1             Financial          Baa2\n",
       "6808 HK Equity  Consumer, Cyclical           NaN\n",
       "XS2125922349             Financial           Ba1"
      ]
     },
     "execution_count": 59,
     "metadata": {},
     "output_type": "execute_result"
    }
   ],
   "source": [
    "sub_set = blpData[['industry_sector', 'moodys rating']] # take two columns to form a new DataFrame, the new one is a copy\n",
    "sub_set.head()"
   ]
  },
  {
   "cell_type": "code",
   "execution_count": 61,
   "metadata": {},
   "outputs": [
    {
     "data": {
      "text/plain": [
       "id_type                          0\n",
       "market_sector_des                0\n",
       "cntry_issue_iso                  0\n",
       "cntry_of_risk                    6\n",
       "exch_market_status               0\n",
       "industry_sector                  0\n",
       "capital_contingent_security      0\n",
       "sfc_authorized_fund              0\n",
       "s&p rating                       0\n",
       "moodys rating                  240\n",
       "fitch rating                   277\n",
       "dtype: int64"
      ]
     },
     "execution_count": 61,
     "metadata": {},
     "output_type": "execute_result"
    }
   ],
   "source": [
    "sub_set['moodys rating'].fillna('NR', inplace=True) # changing the sub frame\n",
    "blpData.isnull().sum() # the original dataframe is not affected"
   ]
  },
  {
   "cell_type": "code",
   "execution_count": 62,
   "metadata": {},
   "outputs": [
    {
     "data": {
      "text/plain": [
       "industry_sector    0\n",
       "moodys rating      0\n",
       "dtype: int64"
      ]
     },
     "execution_count": 62,
     "metadata": {},
     "output_type": "execute_result"
    }
   ],
   "source": [
    "sub_set.isnull().sum()"
   ]
  },
  {
   "cell_type": "markdown",
   "metadata": {},
   "source": [
    "### Get a Single Row"
   ]
  },
  {
   "cell_type": "code",
   "execution_count": 63,
   "metadata": {},
   "outputs": [
    {
     "data": {
      "text/plain": [
       "industry_sector    Communications\n",
       "moodys rating                  NR\n",
       "Name: 700 HK Equity, dtype: object"
      ]
     },
     "execution_count": 63,
     "metadata": {},
     "output_type": "execute_result"
    }
   ],
   "source": [
    "sub_set.loc['700 HK Equity'] # by index"
   ]
  },
  {
   "cell_type": "code",
   "execution_count": 113,
   "metadata": {},
   "outputs": [
    {
     "data": {
      "text/plain": [
       "industry_sector    Financial\n",
       "moodys rating             A3\n",
       "Name: US404280AG49, dtype: object"
      ]
     },
     "execution_count": 113,
     "metadata": {},
     "output_type": "execute_result"
    }
   ],
   "source": [
    "sub_set.iloc[0] # by position (data frame will preserve the sequence of elements when reading from a data source)"
   ]
  },
  {
   "cell_type": "markdown",
   "metadata": {},
   "source": [
    "### Get a Particular Value"
   ]
  },
  {
   "cell_type": "code",
   "execution_count": 64,
   "metadata": {},
   "outputs": [
    {
     "data": {
      "text/plain": [
       "'Communications'"
      ]
     },
     "execution_count": 64,
     "metadata": {},
     "output_type": "execute_result"
    }
   ],
   "source": [
    "sub_set.loc['700 HK Equity']['industry_sector']"
   ]
  },
  {
   "cell_type": "markdown",
   "metadata": {},
   "source": [
    "### Get a List of Rows"
   ]
  },
  {
   "cell_type": "code",
   "execution_count": 65,
   "metadata": {},
   "outputs": [
    {
     "data": {
      "text/html": [
       "<div>\n",
       "<style scoped>\n",
       "    .dataframe tbody tr th:only-of-type {\n",
       "        vertical-align: middle;\n",
       "    }\n",
       "\n",
       "    .dataframe tbody tr th {\n",
       "        vertical-align: top;\n",
       "    }\n",
       "\n",
       "    .dataframe thead th {\n",
       "        text-align: right;\n",
       "    }\n",
       "</style>\n",
       "<table border=\"1\" class=\"dataframe\">\n",
       "  <thead>\n",
       "    <tr style=\"text-align: right;\">\n",
       "      <th></th>\n",
       "      <th>industry_sector</th>\n",
       "      <th>moodys rating</th>\n",
       "    </tr>\n",
       "    <tr>\n",
       "      <th>ID</th>\n",
       "      <th></th>\n",
       "      <th></th>\n",
       "    </tr>\n",
       "  </thead>\n",
       "  <tbody>\n",
       "    <tr>\n",
       "      <th>700 HK Equity</th>\n",
       "      <td>Communications</td>\n",
       "      <td>NR</td>\n",
       "    </tr>\n",
       "    <tr>\n",
       "      <th>US458140BM12</th>\n",
       "      <td>Technology</td>\n",
       "      <td>A1</td>\n",
       "    </tr>\n",
       "    <tr>\n",
       "      <th>XS1573135099</th>\n",
       "      <td>Financial</td>\n",
       "      <td>A3</td>\n",
       "    </tr>\n",
       "    <tr>\n",
       "      <th>XS1618597535</th>\n",
       "      <td>Financial</td>\n",
       "      <td>B1</td>\n",
       "    </tr>\n",
       "    <tr>\n",
       "      <th>XS1973630889</th>\n",
       "      <td>Financial</td>\n",
       "      <td>B2</td>\n",
       "    </tr>\n",
       "    <tr>\n",
       "      <th>...</th>\n",
       "      <td>...</td>\n",
       "      <td>...</td>\n",
       "    </tr>\n",
       "    <tr>\n",
       "      <th>XS1813551584</th>\n",
       "      <td>Financial</td>\n",
       "      <td>NR</td>\n",
       "    </tr>\n",
       "    <tr>\n",
       "      <th>HK0000163607</th>\n",
       "      <td>Financial</td>\n",
       "      <td>NR</td>\n",
       "    </tr>\n",
       "    <tr>\n",
       "      <th>XS2180908001</th>\n",
       "      <td>Financial</td>\n",
       "      <td>NR</td>\n",
       "    </tr>\n",
       "    <tr>\n",
       "      <th>US03523TBU16</th>\n",
       "      <td>Consumer, Non-cyclical</td>\n",
       "      <td>Baa1</td>\n",
       "    </tr>\n",
       "    <tr>\n",
       "      <th>9988 HK Equity</th>\n",
       "      <td>Communications</td>\n",
       "      <td>NR</td>\n",
       "    </tr>\n",
       "  </tbody>\n",
       "</table>\n",
       "<p>63 rows × 2 columns</p>\n",
       "</div>"
      ],
      "text/plain": [
       "                       industry_sector moodys rating\n",
       "ID                                                  \n",
       "700 HK Equity           Communications            NR\n",
       "US458140BM12                Technology            A1\n",
       "XS1573135099                 Financial            A3\n",
       "XS1618597535                 Financial            B1\n",
       "XS1973630889                 Financial            B2\n",
       "...                                ...           ...\n",
       "XS1813551584                 Financial            NR\n",
       "HK0000163607                 Financial            NR\n",
       "XS2180908001                 Financial            NR\n",
       "US03523TBU16    Consumer, Non-cyclical          Baa1\n",
       "9988 HK Equity          Communications            NR\n",
       "\n",
       "[63 rows x 2 columns]"
      ]
     },
     "execution_count": 65,
     "metadata": {},
     "output_type": "execute_result"
    }
   ],
   "source": [
    "sub_set.loc['700 HK Equity':'9988 HK Equity'] # using index"
   ]
  },
  {
   "cell_type": "code",
   "execution_count": 66,
   "metadata": {},
   "outputs": [
    {
     "data": {
      "text/html": [
       "<div>\n",
       "<style scoped>\n",
       "    .dataframe tbody tr th:only-of-type {\n",
       "        vertical-align: middle;\n",
       "    }\n",
       "\n",
       "    .dataframe tbody tr th {\n",
       "        vertical-align: top;\n",
       "    }\n",
       "\n",
       "    .dataframe thead th {\n",
       "        text-align: right;\n",
       "    }\n",
       "</style>\n",
       "<table border=\"1\" class=\"dataframe\">\n",
       "  <thead>\n",
       "    <tr style=\"text-align: right;\">\n",
       "      <th></th>\n",
       "      <th>industry_sector</th>\n",
       "      <th>moodys rating</th>\n",
       "    </tr>\n",
       "    <tr>\n",
       "      <th>ID</th>\n",
       "      <th></th>\n",
       "      <th></th>\n",
       "    </tr>\n",
       "  </thead>\n",
       "  <tbody>\n",
       "    <tr>\n",
       "      <th>US404280AG49</th>\n",
       "      <td>Financial</td>\n",
       "      <td>A3</td>\n",
       "    </tr>\n",
       "    <tr>\n",
       "      <th>XS1992925013</th>\n",
       "      <td>Financial</td>\n",
       "      <td>NR</td>\n",
       "    </tr>\n",
       "    <tr>\n",
       "      <th>DE000LB1P2W1</th>\n",
       "      <td>Financial</td>\n",
       "      <td>Baa2</td>\n",
       "    </tr>\n",
       "    <tr>\n",
       "      <th>6808 HK Equity</th>\n",
       "      <td>Consumer, Cyclical</td>\n",
       "      <td>NR</td>\n",
       "    </tr>\n",
       "    <tr>\n",
       "      <th>XS2125922349</th>\n",
       "      <td>Financial</td>\n",
       "      <td>Ba1</td>\n",
       "    </tr>\n",
       "    <tr>\n",
       "      <th>XS1897158892</th>\n",
       "      <td>Financial</td>\n",
       "      <td>Baa3</td>\n",
       "    </tr>\n",
       "    <tr>\n",
       "      <th>2318 HK Equity</th>\n",
       "      <td>Financial</td>\n",
       "      <td>NR</td>\n",
       "    </tr>\n",
       "    <tr>\n",
       "      <th>881 HK Equity</th>\n",
       "      <td>Consumer, Cyclical</td>\n",
       "      <td>NR</td>\n",
       "    </tr>\n",
       "    <tr>\n",
       "      <th>AMZN US Equity</th>\n",
       "      <td>Communications</td>\n",
       "      <td>NR</td>\n",
       "    </tr>\n",
       "    <tr>\n",
       "      <th>XS2115053626</th>\n",
       "      <td>Basic Materials</td>\n",
       "      <td>Baa1</td>\n",
       "    </tr>\n",
       "  </tbody>\n",
       "</table>\n",
       "</div>"
      ],
      "text/plain": [
       "                   industry_sector moodys rating\n",
       "ID                                              \n",
       "US404280AG49             Financial            A3\n",
       "XS1992925013             Financial            NR\n",
       "DE000LB1P2W1             Financial          Baa2\n",
       "6808 HK Equity  Consumer, Cyclical            NR\n",
       "XS2125922349             Financial           Ba1\n",
       "XS1897158892             Financial          Baa3\n",
       "2318 HK Equity           Financial            NR\n",
       "881 HK Equity   Consumer, Cyclical            NR\n",
       "AMZN US Equity      Communications            NR\n",
       "XS2115053626       Basic Materials          Baa1"
      ]
     },
     "execution_count": 66,
     "metadata": {},
     "output_type": "execute_result"
    }
   ],
   "source": [
    "sub_set.iloc[0:10] # using position"
   ]
  },
  {
   "cell_type": "markdown",
   "metadata": {},
   "source": [
    "### Conditional Selection\n",
    "In list processing, we can use filter() to get the sub set of elements we need. Here is how to do filtering with DataFrame"
   ]
  },
  {
   "cell_type": "code",
   "execution_count": 67,
   "metadata": {},
   "outputs": [
    {
     "data": {
      "text/plain": [
       "ID\n",
       "US404280AG49       True\n",
       "XS1992925013      False\n",
       "DE000LB1P2W1      False\n",
       "6808 HK Equity    False\n",
       "XS2125922349      False\n",
       "Name: moodys rating, dtype: bool"
      ]
     },
     "execution_count": 67,
     "metadata": {},
     "output_type": "execute_result"
    }
   ],
   "source": [
    "new_series = sub_set['moodys rating'] == 'A3' # create a new series\n",
    "new_series.head()"
   ]
  },
  {
   "cell_type": "code",
   "execution_count": 68,
   "metadata": {},
   "outputs": [
    {
     "data": {
      "text/html": [
       "<div>\n",
       "<style scoped>\n",
       "    .dataframe tbody tr th:only-of-type {\n",
       "        vertical-align: middle;\n",
       "    }\n",
       "\n",
       "    .dataframe tbody tr th {\n",
       "        vertical-align: top;\n",
       "    }\n",
       "\n",
       "    .dataframe thead th {\n",
       "        text-align: right;\n",
       "    }\n",
       "</style>\n",
       "<table border=\"1\" class=\"dataframe\">\n",
       "  <thead>\n",
       "    <tr style=\"text-align: right;\">\n",
       "      <th></th>\n",
       "      <th>id_type</th>\n",
       "      <th>market_sector_des</th>\n",
       "      <th>cntry_issue_iso</th>\n",
       "      <th>cntry_of_risk</th>\n",
       "      <th>exch_market_status</th>\n",
       "      <th>industry_sector</th>\n",
       "      <th>capital_contingent_security</th>\n",
       "      <th>sfc_authorized_fund</th>\n",
       "      <th>s&amp;p rating</th>\n",
       "      <th>moodys rating</th>\n",
       "      <th>fitch rating</th>\n",
       "    </tr>\n",
       "    <tr>\n",
       "      <th>ID</th>\n",
       "      <th></th>\n",
       "      <th></th>\n",
       "      <th></th>\n",
       "      <th></th>\n",
       "      <th></th>\n",
       "      <th></th>\n",
       "      <th></th>\n",
       "      <th></th>\n",
       "      <th></th>\n",
       "      <th></th>\n",
       "      <th></th>\n",
       "    </tr>\n",
       "  </thead>\n",
       "  <tbody>\n",
       "    <tr>\n",
       "      <th>US404280AG49</th>\n",
       "      <td>ISIN</td>\n",
       "      <td>Corp</td>\n",
       "      <td>GB</td>\n",
       "      <td>GB</td>\n",
       "      <td>ACTV</td>\n",
       "      <td>Financial</td>\n",
       "      <td>#N/A Field Not Applicable</td>\n",
       "      <td>#N/A Field Not Applicable</td>\n",
       "      <td>BBB</td>\n",
       "      <td>A3</td>\n",
       "      <td>A-</td>\n",
       "    </tr>\n",
       "    <tr>\n",
       "      <th>US172967LS86</th>\n",
       "      <td>ISIN</td>\n",
       "      <td>Corp</td>\n",
       "      <td>US</td>\n",
       "      <td>US</td>\n",
       "      <td>ACTV</td>\n",
       "      <td>Financial</td>\n",
       "      <td>#N/A Field Not Applicable</td>\n",
       "      <td>#N/A Field Not Applicable</td>\n",
       "      <td>BBB+</td>\n",
       "      <td>A3</td>\n",
       "      <td>A</td>\n",
       "    </tr>\n",
       "    <tr>\n",
       "      <th>XS1267602214</th>\n",
       "      <td>ISIN</td>\n",
       "      <td>Corp</td>\n",
       "      <td>SG</td>\n",
       "      <td>CN</td>\n",
       "      <td>ACTV</td>\n",
       "      <td>Energy</td>\n",
       "      <td>#N/A Field Not Applicable</td>\n",
       "      <td>#N/A Field Not Applicable</td>\n",
       "      <td>BBB+</td>\n",
       "      <td>A3</td>\n",
       "      <td>A</td>\n",
       "    </tr>\n",
       "    <tr>\n",
       "      <th>US172967LM17</th>\n",
       "      <td>ISIN</td>\n",
       "      <td>Corp</td>\n",
       "      <td>US</td>\n",
       "      <td>US</td>\n",
       "      <td>ACTV</td>\n",
       "      <td>Financial</td>\n",
       "      <td>#N/A Field Not Applicable</td>\n",
       "      <td>#N/A Field Not Applicable</td>\n",
       "      <td>BBB+</td>\n",
       "      <td>A3</td>\n",
       "      <td>A</td>\n",
       "    </tr>\n",
       "    <tr>\n",
       "      <th>USJ41838AA14</th>\n",
       "      <td>ISIN</td>\n",
       "      <td>Corp</td>\n",
       "      <td>JP</td>\n",
       "      <td>JP</td>\n",
       "      <td>ACTV</td>\n",
       "      <td>Financial</td>\n",
       "      <td>#N/A Field Not Applicable</td>\n",
       "      <td>#N/A Field Not Applicable</td>\n",
       "      <td>A-</td>\n",
       "      <td>A3</td>\n",
       "      <td>A-u</td>\n",
       "    </tr>\n",
       "  </tbody>\n",
       "</table>\n",
       "</div>"
      ],
      "text/plain": [
       "             id_type market_sector_des cntry_issue_iso cntry_of_risk  \\\n",
       "ID                                                                     \n",
       "US404280AG49    ISIN              Corp              GB            GB   \n",
       "US172967LS86    ISIN              Corp              US            US   \n",
       "XS1267602214    ISIN              Corp              SG            CN   \n",
       "US172967LM17    ISIN              Corp              US            US   \n",
       "USJ41838AA14    ISIN              Corp              JP            JP   \n",
       "\n",
       "             exch_market_status industry_sector capital_contingent_security  \\\n",
       "ID                                                                            \n",
       "US404280AG49               ACTV       Financial   #N/A Field Not Applicable   \n",
       "US172967LS86               ACTV       Financial   #N/A Field Not Applicable   \n",
       "XS1267602214               ACTV          Energy   #N/A Field Not Applicable   \n",
       "US172967LM17               ACTV       Financial   #N/A Field Not Applicable   \n",
       "USJ41838AA14               ACTV       Financial   #N/A Field Not Applicable   \n",
       "\n",
       "                    sfc_authorized_fund s&p rating moodys rating fitch rating  \n",
       "ID                                                                             \n",
       "US404280AG49  #N/A Field Not Applicable        BBB            A3           A-  \n",
       "US172967LS86  #N/A Field Not Applicable       BBB+            A3            A  \n",
       "XS1267602214  #N/A Field Not Applicable       BBB+            A3            A  \n",
       "US172967LM17  #N/A Field Not Applicable       BBB+            A3            A  \n",
       "USJ41838AA14  #N/A Field Not Applicable         A-            A3          A-u  "
      ]
     },
     "execution_count": 68,
     "metadata": {},
     "output_type": "execute_result"
    }
   ],
   "source": [
    "with_rating_A3 = blpData[new_series] # get all rows in BlpData whose rating is A3\n",
    "with_rating_A3.head()"
   ]
  },
  {
   "cell_type": "code",
   "execution_count": 70,
   "metadata": {},
   "outputs": [
    {
     "data": {
      "text/html": [
       "<div>\n",
       "<style scoped>\n",
       "    .dataframe tbody tr th:only-of-type {\n",
       "        vertical-align: middle;\n",
       "    }\n",
       "\n",
       "    .dataframe tbody tr th {\n",
       "        vertical-align: top;\n",
       "    }\n",
       "\n",
       "    .dataframe thead th {\n",
       "        text-align: right;\n",
       "    }\n",
       "</style>\n",
       "<table border=\"1\" class=\"dataframe\">\n",
       "  <thead>\n",
       "    <tr style=\"text-align: right;\">\n",
       "      <th></th>\n",
       "      <th>id_type</th>\n",
       "      <th>market_sector_des</th>\n",
       "      <th>cntry_issue_iso</th>\n",
       "      <th>cntry_of_risk</th>\n",
       "      <th>exch_market_status</th>\n",
       "      <th>industry_sector</th>\n",
       "      <th>capital_contingent_security</th>\n",
       "      <th>sfc_authorized_fund</th>\n",
       "      <th>s&amp;p rating</th>\n",
       "      <th>moodys rating</th>\n",
       "      <th>fitch rating</th>\n",
       "    </tr>\n",
       "    <tr>\n",
       "      <th>ID</th>\n",
       "      <th></th>\n",
       "      <th></th>\n",
       "      <th></th>\n",
       "      <th></th>\n",
       "      <th></th>\n",
       "      <th></th>\n",
       "      <th></th>\n",
       "      <th></th>\n",
       "      <th></th>\n",
       "      <th></th>\n",
       "      <th></th>\n",
       "    </tr>\n",
       "  </thead>\n",
       "  <tbody>\n",
       "    <tr>\n",
       "      <th>6808 HK Equity</th>\n",
       "      <td>TICKER</td>\n",
       "      <td>Equity</td>\n",
       "      <td>HK</td>\n",
       "      <td>CN</td>\n",
       "      <td>ACTV</td>\n",
       "      <td>Consumer, Cyclical</td>\n",
       "      <td>N</td>\n",
       "      <td>#N/A Field Not Applicable</td>\n",
       "      <td>NR</td>\n",
       "      <td>NaN</td>\n",
       "      <td>NaN</td>\n",
       "    </tr>\n",
       "    <tr>\n",
       "      <th>2318 HK Equity</th>\n",
       "      <td>TICKER</td>\n",
       "      <td>Equity</td>\n",
       "      <td>HK</td>\n",
       "      <td>CN</td>\n",
       "      <td>ACTV</td>\n",
       "      <td>Financial</td>\n",
       "      <td>N</td>\n",
       "      <td>#N/A Field Not Applicable</td>\n",
       "      <td>NR</td>\n",
       "      <td>NaN</td>\n",
       "      <td>NaN</td>\n",
       "    </tr>\n",
       "    <tr>\n",
       "      <th>881 HK Equity</th>\n",
       "      <td>TICKER</td>\n",
       "      <td>Equity</td>\n",
       "      <td>HK</td>\n",
       "      <td>CN</td>\n",
       "      <td>ACTV</td>\n",
       "      <td>Consumer, Cyclical</td>\n",
       "      <td>N</td>\n",
       "      <td>#N/A Field Not Applicable</td>\n",
       "      <td>NR</td>\n",
       "      <td>NaN</td>\n",
       "      <td>NaN</td>\n",
       "    </tr>\n",
       "    <tr>\n",
       "      <th>AMZN US Equity</th>\n",
       "      <td>TICKER</td>\n",
       "      <td>Equity</td>\n",
       "      <td>US</td>\n",
       "      <td>US</td>\n",
       "      <td>ACTV</td>\n",
       "      <td>Communications</td>\n",
       "      <td>N</td>\n",
       "      <td>#N/A Field Not Applicable</td>\n",
       "      <td>NR</td>\n",
       "      <td>NaN</td>\n",
       "      <td>NaN</td>\n",
       "    </tr>\n",
       "    <tr>\n",
       "      <th>16 HK Equity</th>\n",
       "      <td>TICKER</td>\n",
       "      <td>Equity</td>\n",
       "      <td>HK</td>\n",
       "      <td>HK</td>\n",
       "      <td>ACTV</td>\n",
       "      <td>Financial</td>\n",
       "      <td>N</td>\n",
       "      <td>#N/A Field Not Applicable</td>\n",
       "      <td>NR</td>\n",
       "      <td>NaN</td>\n",
       "      <td>NaN</td>\n",
       "    </tr>\n",
       "  </tbody>\n",
       "</table>\n",
       "</div>"
      ],
      "text/plain": [
       "               id_type market_sector_des cntry_issue_iso cntry_of_risk  \\\n",
       "ID                                                                       \n",
       "6808 HK Equity  TICKER            Equity              HK            CN   \n",
       "2318 HK Equity  TICKER            Equity              HK            CN   \n",
       "881 HK Equity   TICKER            Equity              HK            CN   \n",
       "AMZN US Equity  TICKER            Equity              US            US   \n",
       "16 HK Equity    TICKER            Equity              HK            HK   \n",
       "\n",
       "               exch_market_status     industry_sector  \\\n",
       "ID                                                      \n",
       "6808 HK Equity               ACTV  Consumer, Cyclical   \n",
       "2318 HK Equity               ACTV           Financial   \n",
       "881 HK Equity                ACTV  Consumer, Cyclical   \n",
       "AMZN US Equity               ACTV      Communications   \n",
       "16 HK Equity                 ACTV           Financial   \n",
       "\n",
       "               capital_contingent_security        sfc_authorized_fund  \\\n",
       "ID                                                                      \n",
       "6808 HK Equity                           N  #N/A Field Not Applicable   \n",
       "2318 HK Equity                           N  #N/A Field Not Applicable   \n",
       "881 HK Equity                            N  #N/A Field Not Applicable   \n",
       "AMZN US Equity                           N  #N/A Field Not Applicable   \n",
       "16 HK Equity                             N  #N/A Field Not Applicable   \n",
       "\n",
       "               s&p rating moodys rating fitch rating  \n",
       "ID                                                    \n",
       "6808 HK Equity         NR           NaN          NaN  \n",
       "2318 HK Equity         NR           NaN          NaN  \n",
       "881 HK Equity          NR           NaN          NaN  \n",
       "AMZN US Equity         NR           NaN          NaN  \n",
       "16 HK Equity           NR           NaN          NaN  "
      ]
     },
     "execution_count": 70,
     "metadata": {},
     "output_type": "execute_result"
    }
   ],
   "source": [
    "all_equity = blpData[blpData['id_type'] == 'TICKER'] # using a single condition\n",
    "all_equity.head()"
   ]
  },
  {
   "cell_type": "code",
   "execution_count": 135,
   "metadata": {},
   "outputs": [
    {
     "data": {
      "text/html": [
       "<div>\n",
       "<style scoped>\n",
       "    .dataframe tbody tr th:only-of-type {\n",
       "        vertical-align: middle;\n",
       "    }\n",
       "\n",
       "    .dataframe tbody tr th {\n",
       "        vertical-align: top;\n",
       "    }\n",
       "\n",
       "    .dataframe thead th {\n",
       "        text-align: right;\n",
       "    }\n",
       "</style>\n",
       "<table border=\"1\" class=\"dataframe\">\n",
       "  <thead>\n",
       "    <tr style=\"text-align: right;\">\n",
       "      <th></th>\n",
       "      <th>industry_sector</th>\n",
       "      <th>moodys rating</th>\n",
       "    </tr>\n",
       "    <tr>\n",
       "      <th>ID</th>\n",
       "      <th></th>\n",
       "      <th></th>\n",
       "    </tr>\n",
       "  </thead>\n",
       "  <tbody>\n",
       "    <tr>\n",
       "      <th>6808 HK Equity</th>\n",
       "      <td>Consumer, Cyclical</td>\n",
       "      <td>NR</td>\n",
       "    </tr>\n",
       "    <tr>\n",
       "      <th>2318 HK Equity</th>\n",
       "      <td>Financial</td>\n",
       "      <td>NR</td>\n",
       "    </tr>\n",
       "    <tr>\n",
       "      <th>881 HK Equity</th>\n",
       "      <td>Consumer, Cyclical</td>\n",
       "      <td>NR</td>\n",
       "    </tr>\n",
       "    <tr>\n",
       "      <th>16 HK Equity</th>\n",
       "      <td>Financial</td>\n",
       "      <td>NR</td>\n",
       "    </tr>\n",
       "    <tr>\n",
       "      <th>8 HK Equity</th>\n",
       "      <td>Communications</td>\n",
       "      <td>NR</td>\n",
       "    </tr>\n",
       "  </tbody>\n",
       "</table>\n",
       "</div>"
      ],
      "text/plain": [
       "                   industry_sector moodys rating\n",
       "ID                                              \n",
       "6808 HK Equity  Consumer, Cyclical            NR\n",
       "2318 HK Equity           Financial            NR\n",
       "881 HK Equity   Consumer, Cyclical            NR\n",
       "16 HK Equity             Financial            NR\n",
       "8 HK Equity         Communications            NR"
      ]
     },
     "execution_count": 135,
     "metadata": {},
     "output_type": "execute_result"
    }
   ],
   "source": [
    "sub_set[(blpData['cntry_issue_iso'] == 'HK') & (blpData['id_type'] == 'TICKER')].head() # using two conditions with AND"
   ]
  },
  {
   "cell_type": "markdown",
   "metadata": {},
   "source": [
    "### Applying Functions\n",
    "The counter part of map() in DataFrame"
   ]
  },
  {
   "cell_type": "code",
   "execution_count": 145,
   "metadata": {},
   "outputs": [],
   "source": [
    "def rating_function(x):\n",
    "    \"\"\"\n",
    "    Defines whether a bond is investment grade or not\n",
    "    \"\"\"\n",
    "    if isinstance(x, float): # NaN is of type float\n",
    "        return \"\"\n",
    "    \n",
    "    if x.startswith('A') or x.startswith('BBB'):\n",
    "        return 'investment grade'\n",
    "    else:\n",
    "        return 'non-investment grade'"
   ]
  },
  {
   "cell_type": "code",
   "execution_count": 150,
   "metadata": {},
   "outputs": [
    {
     "data": {
      "text/html": [
       "<div>\n",
       "<style scoped>\n",
       "    .dataframe tbody tr th:only-of-type {\n",
       "        vertical-align: middle;\n",
       "    }\n",
       "\n",
       "    .dataframe tbody tr th {\n",
       "        vertical-align: top;\n",
       "    }\n",
       "\n",
       "    .dataframe thead th {\n",
       "        text-align: right;\n",
       "    }\n",
       "</style>\n",
       "<table border=\"1\" class=\"dataframe\">\n",
       "  <thead>\n",
       "    <tr style=\"text-align: right;\">\n",
       "      <th></th>\n",
       "      <th>moodys rating</th>\n",
       "      <th>is_investment_grade</th>\n",
       "    </tr>\n",
       "    <tr>\n",
       "      <th>ID</th>\n",
       "      <th></th>\n",
       "      <th></th>\n",
       "    </tr>\n",
       "  </thead>\n",
       "  <tbody>\n",
       "    <tr>\n",
       "      <th>US404280AG49</th>\n",
       "      <td>A3</td>\n",
       "      <td>investment grade</td>\n",
       "    </tr>\n",
       "    <tr>\n",
       "      <th>XS1992925013</th>\n",
       "      <td>NaN</td>\n",
       "      <td></td>\n",
       "    </tr>\n",
       "    <tr>\n",
       "      <th>DE000LB1P2W1</th>\n",
       "      <td>Baa2</td>\n",
       "      <td>non-investment grade</td>\n",
       "    </tr>\n",
       "    <tr>\n",
       "      <th>6808 HK Equity</th>\n",
       "      <td>NaN</td>\n",
       "      <td></td>\n",
       "    </tr>\n",
       "    <tr>\n",
       "      <th>XS2125922349</th>\n",
       "      <td>Ba1</td>\n",
       "      <td>non-investment grade</td>\n",
       "    </tr>\n",
       "  </tbody>\n",
       "</table>\n",
       "</div>"
      ],
      "text/plain": [
       "               moodys rating   is_investment_grade\n",
       "ID                                                \n",
       "US404280AG49              A3      investment grade\n",
       "XS1992925013             NaN                      \n",
       "DE000LB1P2W1            Baa2  non-investment grade\n",
       "6808 HK Equity           NaN                      \n",
       "XS2125922349             Ba1  non-investment grade"
      ]
     },
     "execution_count": 150,
     "metadata": {},
     "output_type": "execute_result"
    }
   ],
   "source": [
    "# create a new column by applying the function to an existing column\n",
    "blpData['is_investment_grade'] = blpData['moodys rating'].apply(rating_function)\n",
    "blpData[['moodys rating', 'is_investment_grade']].head()"
   ]
  },
  {
   "cell_type": "markdown",
   "metadata": {},
   "source": [
    "### Function Chaining\n",
    "We can chain functions together"
   ]
  },
  {
   "cell_type": "code",
   "execution_count": 12,
   "metadata": {},
   "outputs": [
    {
     "data": {
      "text/html": [
       "<div>\n",
       "<style scoped>\n",
       "    .dataframe tbody tr th:only-of-type {\n",
       "        vertical-align: middle;\n",
       "    }\n",
       "\n",
       "    .dataframe tbody tr th {\n",
       "        vertical-align: top;\n",
       "    }\n",
       "\n",
       "    .dataframe thead th {\n",
       "        text-align: right;\n",
       "    }\n",
       "</style>\n",
       "<table border=\"1\" class=\"dataframe\">\n",
       "  <thead>\n",
       "    <tr style=\"text-align: right;\">\n",
       "      <th></th>\n",
       "      <th>Data</th>\n",
       "    </tr>\n",
       "  </thead>\n",
       "  <tbody>\n",
       "    <tr>\n",
       "      <th>0</th>\n",
       "      <td>1</td>\n",
       "    </tr>\n",
       "    <tr>\n",
       "      <th>1</th>\n",
       "      <td>Abc</td>\n",
       "    </tr>\n",
       "    <tr>\n",
       "      <th>2</th>\n",
       "      <td>3</td>\n",
       "    </tr>\n",
       "    <tr>\n",
       "      <th>3</th>\n",
       "      <td>NaN</td>\n",
       "    </tr>\n",
       "    <tr>\n",
       "      <th>4</th>\n",
       "      <td>Hello</td>\n",
       "    </tr>\n",
       "    <tr>\n",
       "      <th>5</th>\n",
       "      <td>99</td>\n",
       "    </tr>\n",
       "  </tbody>\n",
       "</table>\n",
       "</div>"
      ],
      "text/plain": [
       "    Data\n",
       "0      1\n",
       "1    Abc\n",
       "2      3\n",
       "3    NaN\n",
       "4  Hello\n",
       "5     99"
      ]
     },
     "execution_count": 12,
     "metadata": {},
     "output_type": "execute_result"
    }
   ],
   "source": [
    "data = pd.DataFrame([1, 'Abc', 3, np.NaN, 'Hello', 99], columns=['Data']) # here we get a column of mixed data types\n",
    "data"
   ]
  },
  {
   "cell_type": "markdown",
   "metadata": {},
   "source": [
    "Say, we want to find all rows that start with letter 'H'"
   ]
  },
  {
   "cell_type": "code",
   "execution_count": 17,
   "metadata": {},
   "outputs": [
    {
     "data": {
      "text/plain": [
       "0      NaN\n",
       "1    False\n",
       "2      NaN\n",
       "3      NaN\n",
       "4     True\n",
       "5      NaN\n",
       "Name: Data, dtype: object"
      ]
     },
     "execution_count": 17,
     "metadata": {},
     "output_type": "execute_result"
    }
   ],
   "source": [
    "hasLetterH = data['Data'].str.startswith('H')\n",
    "hasLetterH"
   ]
  },
  {
   "cell_type": "markdown",
   "metadata": {},
   "source": [
    "Notice that the result contains 2 type of things:\n",
    "\n",
    "1. NaN: if the input is NaN or if the the input is not applicable (in this case, float numbers);\n",
    "2. True/False: if it's a string.\n",
    "\n",
    "The following won't work, because 'hasLetterH' contains NaN values"
   ]
  },
  {
   "cell_type": "code",
   "execution_count": 18,
   "metadata": {},
   "outputs": [
    {
     "ename": "ValueError",
     "evalue": "Cannot mask with non-boolean array containing NA / NaN values",
     "output_type": "error",
     "traceback": [
      "\u001b[1;31m---------------------------------------------------------------------------\u001b[0m",
      "\u001b[1;31mValueError\u001b[0m                                Traceback (most recent call last)",
      "\u001b[1;32m<ipython-input-18-c0ba67b7335d>\u001b[0m in \u001b[0;36m<module>\u001b[1;34m\u001b[0m\n\u001b[1;32m----> 1\u001b[1;33m \u001b[0mdata\u001b[0m\u001b[1;33m[\u001b[0m\u001b[0mhasLetterH\u001b[0m\u001b[1;33m]\u001b[0m\u001b[1;33m\u001b[0m\u001b[1;33m\u001b[0m\u001b[0m\n\u001b[0m",
      "\u001b[1;32mc:\\users\\zhangst\\appdata\\local\\programs\\python\\python38-32\\lib\\site-packages\\pandas\\core\\frame.py\u001b[0m in \u001b[0;36m__getitem__\u001b[1;34m(self, key)\u001b[0m\n\u001b[0;32m   2788\u001b[0m \u001b[1;33m\u001b[0m\u001b[0m\n\u001b[0;32m   2789\u001b[0m         \u001b[1;31m# Do we have a (boolean) 1d indexer?\u001b[0m\u001b[1;33m\u001b[0m\u001b[1;33m\u001b[0m\u001b[1;33m\u001b[0m\u001b[0m\n\u001b[1;32m-> 2790\u001b[1;33m         \u001b[1;32mif\u001b[0m \u001b[0mcom\u001b[0m\u001b[1;33m.\u001b[0m\u001b[0mis_bool_indexer\u001b[0m\u001b[1;33m(\u001b[0m\u001b[0mkey\u001b[0m\u001b[1;33m)\u001b[0m\u001b[1;33m:\u001b[0m\u001b[1;33m\u001b[0m\u001b[1;33m\u001b[0m\u001b[0m\n\u001b[0m\u001b[0;32m   2791\u001b[0m             \u001b[1;32mreturn\u001b[0m \u001b[0mself\u001b[0m\u001b[1;33m.\u001b[0m\u001b[0m_getitem_bool_array\u001b[0m\u001b[1;33m(\u001b[0m\u001b[0mkey\u001b[0m\u001b[1;33m)\u001b[0m\u001b[1;33m\u001b[0m\u001b[1;33m\u001b[0m\u001b[0m\n\u001b[0;32m   2792\u001b[0m \u001b[1;33m\u001b[0m\u001b[0m\n",
      "\u001b[1;32mc:\\users\\zhangst\\appdata\\local\\programs\\python\\python38-32\\lib\\site-packages\\pandas\\core\\common.py\u001b[0m in \u001b[0;36mis_bool_indexer\u001b[1;34m(key)\u001b[0m\n\u001b[0;32m    134\u001b[0m                 \u001b[0mna_msg\u001b[0m \u001b[1;33m=\u001b[0m \u001b[1;34m\"Cannot mask with non-boolean array containing NA / NaN values\"\u001b[0m\u001b[1;33m\u001b[0m\u001b[1;33m\u001b[0m\u001b[0m\n\u001b[0;32m    135\u001b[0m                 \u001b[1;32mif\u001b[0m \u001b[0misna\u001b[0m\u001b[1;33m(\u001b[0m\u001b[0mkey\u001b[0m\u001b[1;33m)\u001b[0m\u001b[1;33m.\u001b[0m\u001b[0many\u001b[0m\u001b[1;33m(\u001b[0m\u001b[1;33m)\u001b[0m\u001b[1;33m:\u001b[0m\u001b[1;33m\u001b[0m\u001b[1;33m\u001b[0m\u001b[0m\n\u001b[1;32m--> 136\u001b[1;33m                     \u001b[1;32mraise\u001b[0m \u001b[0mValueError\u001b[0m\u001b[1;33m(\u001b[0m\u001b[0mna_msg\u001b[0m\u001b[1;33m)\u001b[0m\u001b[1;33m\u001b[0m\u001b[1;33m\u001b[0m\u001b[0m\n\u001b[0m\u001b[0;32m    137\u001b[0m                 \u001b[1;32mreturn\u001b[0m \u001b[1;32mFalse\u001b[0m\u001b[1;33m\u001b[0m\u001b[1;33m\u001b[0m\u001b[0m\n\u001b[0;32m    138\u001b[0m             \u001b[1;32mreturn\u001b[0m \u001b[1;32mTrue\u001b[0m\u001b[1;33m\u001b[0m\u001b[1;33m\u001b[0m\u001b[0m\n",
      "\u001b[1;31mValueError\u001b[0m: Cannot mask with non-boolean array containing NA / NaN values"
     ]
    }
   ],
   "source": [
    "data[hasLetterH]"
   ]
  },
  {
   "cell_type": "markdown",
   "metadata": {},
   "source": [
    "To make it work, we need to decide how to deal with NaN values, say we want to treat NaN values as False. Then we can chain another function fillna(), like below:"
   ]
  },
  {
   "cell_type": "code",
   "execution_count": 19,
   "metadata": {},
   "outputs": [
    {
     "data": {
      "text/html": [
       "<div>\n",
       "<style scoped>\n",
       "    .dataframe tbody tr th:only-of-type {\n",
       "        vertical-align: middle;\n",
       "    }\n",
       "\n",
       "    .dataframe tbody tr th {\n",
       "        vertical-align: top;\n",
       "    }\n",
       "\n",
       "    .dataframe thead th {\n",
       "        text-align: right;\n",
       "    }\n",
       "</style>\n",
       "<table border=\"1\" class=\"dataframe\">\n",
       "  <thead>\n",
       "    <tr style=\"text-align: right;\">\n",
       "      <th></th>\n",
       "      <th>Data</th>\n",
       "    </tr>\n",
       "  </thead>\n",
       "  <tbody>\n",
       "    <tr>\n",
       "      <th>4</th>\n",
       "      <td>Hello</td>\n",
       "    </tr>\n",
       "  </tbody>\n",
       "</table>\n",
       "</div>"
      ],
      "text/plain": [
       "    Data\n",
       "4  Hello"
      ]
     },
     "execution_count": 19,
     "metadata": {},
     "output_type": "execute_result"
    }
   ],
   "source": [
    "hasLetterH = data['Data'].str.startswith('H').fillna(False)\n",
    "data[hasLetterH]"
   ]
  },
  {
   "cell_type": "markdown",
   "metadata": {},
   "source": [
    "## Sorting"
   ]
  },
  {
   "cell_type": "code",
   "execution_count": 6,
   "metadata": {},
   "outputs": [
    {
     "data": {
      "text/html": [
       "<div>\n",
       "<style scoped>\n",
       "    .dataframe tbody tr th:only-of-type {\n",
       "        vertical-align: middle;\n",
       "    }\n",
       "\n",
       "    .dataframe tbody tr th {\n",
       "        vertical-align: top;\n",
       "    }\n",
       "\n",
       "    .dataframe thead th {\n",
       "        text-align: right;\n",
       "    }\n",
       "</style>\n",
       "<table border=\"1\" class=\"dataframe\">\n",
       "  <thead>\n",
       "    <tr style=\"text-align: right;\">\n",
       "      <th></th>\n",
       "      <th>Name</th>\n",
       "      <th>Seating Number</th>\n",
       "    </tr>\n",
       "  </thead>\n",
       "  <tbody>\n",
       "    <tr>\n",
       "      <th>0</th>\n",
       "      <td>A</td>\n",
       "      <td>3</td>\n",
       "    </tr>\n",
       "    <tr>\n",
       "      <th>1</th>\n",
       "      <td>B</td>\n",
       "      <td>1</td>\n",
       "    </tr>\n",
       "    <tr>\n",
       "      <th>2</th>\n",
       "      <td>C</td>\n",
       "      <td>5</td>\n",
       "    </tr>\n",
       "    <tr>\n",
       "      <th>3</th>\n",
       "      <td>D</td>\n",
       "      <td>9</td>\n",
       "    </tr>\n",
       "    <tr>\n",
       "      <th>4</th>\n",
       "      <td>E</td>\n",
       "      <td>7</td>\n",
       "    </tr>\n",
       "  </tbody>\n",
       "</table>\n",
       "</div>"
      ],
      "text/plain": [
       "  Name  Seating Number\n",
       "0    A               3\n",
       "1    B               1\n",
       "2    C               5\n",
       "3    D               9\n",
       "4    E               7"
      ]
     },
     "execution_count": 6,
     "metadata": {},
     "output_type": "execute_result"
    }
   ],
   "source": [
    "data = pd.DataFrame({'Name': ['A', 'B', 'C', 'D', 'E'], 'Seating Number': [3, 1, 5, 9, 7]})\n",
    "data"
   ]
  },
  {
   "cell_type": "markdown",
   "metadata": {},
   "source": [
    "Let's sort by seating number"
   ]
  },
  {
   "cell_type": "code",
   "execution_count": 9,
   "metadata": {},
   "outputs": [
    {
     "data": {
      "text/html": [
       "<div>\n",
       "<style scoped>\n",
       "    .dataframe tbody tr th:only-of-type {\n",
       "        vertical-align: middle;\n",
       "    }\n",
       "\n",
       "    .dataframe tbody tr th {\n",
       "        vertical-align: top;\n",
       "    }\n",
       "\n",
       "    .dataframe thead th {\n",
       "        text-align: right;\n",
       "    }\n",
       "</style>\n",
       "<table border=\"1\" class=\"dataframe\">\n",
       "  <thead>\n",
       "    <tr style=\"text-align: right;\">\n",
       "      <th></th>\n",
       "      <th>Name</th>\n",
       "      <th>Seating Number</th>\n",
       "    </tr>\n",
       "  </thead>\n",
       "  <tbody>\n",
       "    <tr>\n",
       "      <th>1</th>\n",
       "      <td>B</td>\n",
       "      <td>1</td>\n",
       "    </tr>\n",
       "    <tr>\n",
       "      <th>0</th>\n",
       "      <td>A</td>\n",
       "      <td>3</td>\n",
       "    </tr>\n",
       "    <tr>\n",
       "      <th>2</th>\n",
       "      <td>C</td>\n",
       "      <td>5</td>\n",
       "    </tr>\n",
       "    <tr>\n",
       "      <th>4</th>\n",
       "      <td>E</td>\n",
       "      <td>7</td>\n",
       "    </tr>\n",
       "    <tr>\n",
       "      <th>3</th>\n",
       "      <td>D</td>\n",
       "      <td>9</td>\n",
       "    </tr>\n",
       "  </tbody>\n",
       "</table>\n",
       "</div>"
      ],
      "text/plain": [
       "  Name  Seating Number\n",
       "1    B               1\n",
       "0    A               3\n",
       "2    C               5\n",
       "4    E               7\n",
       "3    D               9"
      ]
     },
     "execution_count": 9,
     "metadata": {},
     "output_type": "execute_result"
    }
   ],
   "source": [
    "data.sort_values(by='Seating Number')"
   ]
  }
 ],
 "metadata": {
  "kernelspec": {
   "display_name": "Python 3",
   "language": "python",
   "name": "python3"
  },
  "language_info": {
   "codemirror_mode": {
    "name": "ipython",
    "version": 3
   },
   "file_extension": ".py",
   "mimetype": "text/x-python",
   "name": "python",
   "nbconvert_exporter": "python",
   "pygments_lexer": "ipython3",
   "version": "3.8.2"
  }
 },
 "nbformat": 4,
 "nbformat_minor": 4
}
